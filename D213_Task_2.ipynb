{
 "cells": [
  {
   "cell_type": "markdown",
   "id": "45a90dad-f38e-44b8-b4cc-a057dd93b3be",
   "metadata": {},
   "source": [
    "            \n",
    "                 "
   ]
  },
  {
   "cell_type": "markdown",
   "id": "09aa8f90-0442-453a-a4fd-51d0a7f92bff",
   "metadata": {},
   "source": [
    "         \n",
    "             "
   ]
  },
  {
   "cell_type": "markdown",
   "id": "1d8f429b-5cf3-4f85-b0a6-1bc6edfad687",
   "metadata": {},
   "source": [
    "          "
   ]
  },
  {
   "cell_type": "markdown",
   "id": "d8fd0863-d9d0-4680-9a5a-1210b0485f68",
   "metadata": {
    "tags": []
   },
   "source": [
    "## **<center>D213 NLM2 TASK 2: SENTIMENT ANALYSIS USING NEURAL NETWORKS<center>** "
   ]
  },
  {
   "cell_type": "markdown",
   "id": "e8e62989-81bf-4cb0-b336-1c0a3249acaa",
   "metadata": {},
   "source": [
    "    "
   ]
  },
  {
   "cell_type": "markdown",
   "id": "e3bfbbbe-aeb1-46cf-8a26-80d63671bc8a",
   "metadata": {},
   "source": [
    "        "
   ]
  },
  {
   "cell_type": "markdown",
   "id": "69e288d7-e0eb-46b1-8f9e-d89d40f7a49b",
   "metadata": {},
   "source": [
    "Julia Amanda Terzin  \n",
    "ID:009968680  \n",
    "Mentor: Jared Knepp    \n",
    "1.877.435.7948 Ext. 6604     \n",
    "jared.knepp@wgu.edu   \n",
    "September 29, 2022"
   ]
  },
  {
   "cell_type": "markdown",
   "id": "37b96de9-2fd4-4998-be9e-eb16800ec402",
   "metadata": {},
   "source": [
    "### Part I: Research Question"
   ]
  },
  {
   "cell_type": "markdown",
   "id": "b68f0e67-86dd-4bb4-bc43-af56b049d338",
   "metadata": {},
   "source": [
    "#### A.  Describe the purpose of this data analysis by doing the following:"
   ]
  },
  {
   "cell_type": "markdown",
   "id": "af5c2c18-6613-428c-8964-6c9acfb20111",
   "metadata": {},
   "source": [
    "##### A.1. Summarize one research question that you will answer using neural network models and NLP techniques. Be sure the research question is relevant to a real-world organizational situation and sentiment analysis captured in your chosen dataset."
   ]
  },
  {
   "cell_type": "markdown",
   "id": "9af547fe-a78b-4569-811c-2cabe944a0f9",
   "metadata": {},
   "source": [
    "Can we use Natural Language Processing (NLP) and Networks to analyze customer reviews and interpret sentiment? "
   ]
  },
  {
   "cell_type": "markdown",
   "id": "81252a12-cb36-4709-bacf-e6eef037e91d",
   "metadata": {},
   "source": [
    "##### A.2.  Define the objectives or goals of the data analysis. Be sure the objectives or goals are reasonable within the scope of the research question and are represented in the available data."
   ]
  },
  {
   "cell_type": "markdown",
   "id": "c2023c71-2914-478f-ba4a-f5b13b14795b",
   "metadata": {},
   "source": [
    "The goal of the analysis is to predict positive or negative sentiments from customer reviews."
   ]
  },
  {
   "cell_type": "markdown",
   "id": "d88a12d8-649c-407c-8300-ecdd1cec8562",
   "metadata": {},
   "source": [
    "#### A.3.  Identify a type of neural network capable of performing a text classification task that can be trained to produce useful predictions on text sequences on the selected data set."
   ]
  },
  {
   "cell_type": "markdown",
   "id": "f0a7f9f9-ccd1-4105-ae82-cc4b0bced73a",
   "metadata": {},
   "source": [
    "Recurrent Neural Networks (RNN) are deep learning algorithms that work best with sequential data like time series and text data. It uses previous input in its “memory” to predict subsequent values. (Kalita, 2022)"
   ]
  },
  {
   "cell_type": "markdown",
   "id": "cde63fd9-271d-4929-b3cb-33862f4f5f52",
   "metadata": {
    "tags": []
   },
   "source": [
    "#### Part II: Data Preparation"
   ]
  },
  {
   "cell_type": "markdown",
   "id": "3282d72f-7321-4a45-82e8-f0426b78345f",
   "metadata": {},
   "source": [
    "##### 1. Import Packages"
   ]
  },
  {
   "cell_type": "code",
   "execution_count": 1,
   "id": "9ed7ac8f-0394-4b3b-85ca-d454e32c2fb7",
   "metadata": {
    "tags": []
   },
   "outputs": [
    {
     "name": "stdout",
     "output_type": "stream",
     "text": [
      "python version used for this analysis is: 3.8.8\n"
     ]
    },
    {
     "name": "stderr",
     "output_type": "stream",
     "text": [
      "[nltk_data] Downloading package punkt to\n",
      "[nltk_data]     C:\\Users\\jater\\AppData\\Roaming\\nltk_data...\n",
      "[nltk_data]   Package punkt is already up-to-date!\n"
     ]
    }
   ],
   "source": [
    "import pandas as pd\n",
    "import matplotlib.pyplot as plt\n",
    "import numpy as np\n",
    "import seaborn as sns\n",
    "\n",
    "import nltk\n",
    "from nltk.tokenize import word_tokenize\n",
    "from nltk.tokenize import sent_tokenize\n",
    "from nltk.corpus import stopwords, wordnet\n",
    "from nltk.stem import PorterStemmer\n",
    "from nltk.stem import WordNetLemmatizer\n",
    "\n",
    "from collections import  Counter\n",
    "from collections import defaultdict\n",
    "from collections import OrderedDict\n",
    "\n",
    "from sklearn.model_selection import train_test_split\n",
    "from sklearn.feature_extraction.text import CountVectorizer\n",
    "\n",
    "from textblob import TextBlob\n",
    "from spellchecker import SpellChecker\n",
    "from textblob import Word\n",
    "\n",
    "from tensorflow.keras.preprocessing.text import Tokenizer\n",
    "from tensorflow.keras.preprocessing.sequence import pad_sequences\n",
    "\n",
    "from tensorflow.keras.models import Sequential\n",
    "from tensorflow.keras.layers import LSTM,Dense, Dropout, SpatialDropout1D, GlobalAveragePooling1D\n",
    "from tensorflow.keras.layers import Embedding, Flatten\n",
    "from tensorflow.keras.callbacks import EarlyStopping\n",
    "from keras.backend import clear_session\n",
    "\n",
    "from keras import layers\n",
    "from keras import regularizers\n",
    "from keras import backend as K\n",
    "from keras.callbacks import ModelCheckpoint\n",
    "\n",
    "#import fasttext\n",
    "import contractions\n",
    "\n",
    "from pylab import rcParams\n",
    "\n",
    "import emot\n",
    "import emoji\n",
    "from emoji import UNICODE_EMOJI\n",
    "\n",
    "import regex\n",
    "nltk.download('punkt')\n",
    "from nltk.text import Text\n",
    "import string, re\n",
    "from keras.models import load_model\n",
    "\n",
    "from sklearn.feature_extraction.text import CountVectorizer\n",
    "\n",
    "plt.style.use('ggplot')\n",
    "import warnings\n",
    "warnings.filterwarnings('ignore')\n",
    "from platform import python_version\n",
    "print('python version used for this analysis is:', python_version())"
   ]
  },
  {
   "cell_type": "markdown",
   "id": "ae123739-9be7-4311-b87f-4fa420a0a8e0",
   "metadata": {},
   "source": [
    "##### 2. Load data "
   ]
  },
  {
   "cell_type": "code",
   "execution_count": 2,
   "id": "198b80a8-a598-4ad9-a9cf-7c52435de4f6",
   "metadata": {},
   "outputs": [
    {
     "data": {
      "text/html": [
       "<div>\n",
       "<style scoped>\n",
       "    .dataframe tbody tr th:only-of-type {\n",
       "        vertical-align: middle;\n",
       "    }\n",
       "\n",
       "    .dataframe tbody tr th {\n",
       "        vertical-align: top;\n",
       "    }\n",
       "\n",
       "    .dataframe thead th {\n",
       "        text-align: right;\n",
       "    }\n",
       "</style>\n",
       "<table border=\"1\" class=\"dataframe\">\n",
       "  <thead>\n",
       "    <tr style=\"text-align: right;\">\n",
       "      <th></th>\n",
       "      <th>Review</th>\n",
       "      <th>Score</th>\n",
       "      <th>Source</th>\n",
       "    </tr>\n",
       "  </thead>\n",
       "  <tbody>\n",
       "    <tr>\n",
       "      <th>0</th>\n",
       "      <td>So there is no way for me to plug it in here i...</td>\n",
       "      <td>0</td>\n",
       "      <td>amazon</td>\n",
       "    </tr>\n",
       "    <tr>\n",
       "      <th>1</th>\n",
       "      <td>Good case, Excellent value.</td>\n",
       "      <td>1</td>\n",
       "      <td>amazon</td>\n",
       "    </tr>\n",
       "    <tr>\n",
       "      <th>2</th>\n",
       "      <td>Great for the jawbone.</td>\n",
       "      <td>1</td>\n",
       "      <td>amazon</td>\n",
       "    </tr>\n",
       "    <tr>\n",
       "      <th>3</th>\n",
       "      <td>Tied to charger for conversations lasting more...</td>\n",
       "      <td>0</td>\n",
       "      <td>amazon</td>\n",
       "    </tr>\n",
       "    <tr>\n",
       "      <th>4</th>\n",
       "      <td>The mic is great.</td>\n",
       "      <td>1</td>\n",
       "      <td>amazon</td>\n",
       "    </tr>\n",
       "    <tr>\n",
       "      <th>...</th>\n",
       "      <td>...</td>\n",
       "      <td>...</td>\n",
       "      <td>...</td>\n",
       "    </tr>\n",
       "    <tr>\n",
       "      <th>995</th>\n",
       "      <td>The screen does get smudged easily because it ...</td>\n",
       "      <td>0</td>\n",
       "      <td>amazon</td>\n",
       "    </tr>\n",
       "    <tr>\n",
       "      <th>996</th>\n",
       "      <td>What a piece of junk.. I lose more calls on th...</td>\n",
       "      <td>0</td>\n",
       "      <td>amazon</td>\n",
       "    </tr>\n",
       "    <tr>\n",
       "      <th>997</th>\n",
       "      <td>Item Does Not Match Picture.</td>\n",
       "      <td>0</td>\n",
       "      <td>amazon</td>\n",
       "    </tr>\n",
       "    <tr>\n",
       "      <th>998</th>\n",
       "      <td>The only thing that disappoint me is the infra...</td>\n",
       "      <td>0</td>\n",
       "      <td>amazon</td>\n",
       "    </tr>\n",
       "    <tr>\n",
       "      <th>999</th>\n",
       "      <td>You can not answer calls with the unit, never ...</td>\n",
       "      <td>0</td>\n",
       "      <td>amazon</td>\n",
       "    </tr>\n",
       "  </tbody>\n",
       "</table>\n",
       "<p>1000 rows × 3 columns</p>\n",
       "</div>"
      ],
      "text/plain": [
       "                                                Review  Score  Source\n",
       "0    So there is no way for me to plug it in here i...      0  amazon\n",
       "1                          Good case, Excellent value.      1  amazon\n",
       "2                               Great for the jawbone.      1  amazon\n",
       "3    Tied to charger for conversations lasting more...      0  amazon\n",
       "4                                    The mic is great.      1  amazon\n",
       "..                                                 ...    ...     ...\n",
       "995  The screen does get smudged easily because it ...      0  amazon\n",
       "996  What a piece of junk.. I lose more calls on th...      0  amazon\n",
       "997                       Item Does Not Match Picture.      0  amazon\n",
       "998  The only thing that disappoint me is the infra...      0  amazon\n",
       "999  You can not answer calls with the unit, never ...      0  amazon\n",
       "\n",
       "[1000 rows x 3 columns]"
      ]
     },
     "execution_count": 2,
     "metadata": {},
     "output_type": "execute_result"
    }
   ],
   "source": [
    "# read text file into pandas DataFrame\n",
    "amazon = pd.read_csv(\"amazon_cells_labelled.txt\", sep='\\t', header=None, names = ['Review', 'Score'])\n",
    "amazon['Source'] = 'amazon'\n",
    "amazon"
   ]
  },
  {
   "cell_type": "code",
   "execution_count": 3,
   "id": "643b711e-4ba7-4523-a0b3-44f246ff5962",
   "metadata": {
    "tags": []
   },
   "outputs": [
    {
     "data": {
      "text/html": [
       "<div>\n",
       "<style scoped>\n",
       "    .dataframe tbody tr th:only-of-type {\n",
       "        vertical-align: middle;\n",
       "    }\n",
       "\n",
       "    .dataframe tbody tr th {\n",
       "        vertical-align: top;\n",
       "    }\n",
       "\n",
       "    .dataframe thead th {\n",
       "        text-align: right;\n",
       "    }\n",
       "</style>\n",
       "<table border=\"1\" class=\"dataframe\">\n",
       "  <thead>\n",
       "    <tr style=\"text-align: right;\">\n",
       "      <th></th>\n",
       "      <th>Review</th>\n",
       "      <th>Score</th>\n",
       "      <th>Source</th>\n",
       "    </tr>\n",
       "  </thead>\n",
       "  <tbody>\n",
       "    <tr>\n",
       "      <th>0</th>\n",
       "      <td>Wow... Loved this place.</td>\n",
       "      <td>1</td>\n",
       "      <td>yelp</td>\n",
       "    </tr>\n",
       "    <tr>\n",
       "      <th>1</th>\n",
       "      <td>Crust is not good.</td>\n",
       "      <td>0</td>\n",
       "      <td>yelp</td>\n",
       "    </tr>\n",
       "    <tr>\n",
       "      <th>2</th>\n",
       "      <td>Not tasty and the texture was just nasty.</td>\n",
       "      <td>0</td>\n",
       "      <td>yelp</td>\n",
       "    </tr>\n",
       "    <tr>\n",
       "      <th>3</th>\n",
       "      <td>Stopped by during the late May bank holiday of...</td>\n",
       "      <td>1</td>\n",
       "      <td>yelp</td>\n",
       "    </tr>\n",
       "    <tr>\n",
       "      <th>4</th>\n",
       "      <td>The selection on the menu was great and so wer...</td>\n",
       "      <td>1</td>\n",
       "      <td>yelp</td>\n",
       "    </tr>\n",
       "    <tr>\n",
       "      <th>...</th>\n",
       "      <td>...</td>\n",
       "      <td>...</td>\n",
       "      <td>...</td>\n",
       "    </tr>\n",
       "    <tr>\n",
       "      <th>995</th>\n",
       "      <td>I think food should have flavor and texture an...</td>\n",
       "      <td>0</td>\n",
       "      <td>yelp</td>\n",
       "    </tr>\n",
       "    <tr>\n",
       "      <th>996</th>\n",
       "      <td>Appetite instantly gone.</td>\n",
       "      <td>0</td>\n",
       "      <td>yelp</td>\n",
       "    </tr>\n",
       "    <tr>\n",
       "      <th>997</th>\n",
       "      <td>Overall I was not impressed and would not go b...</td>\n",
       "      <td>0</td>\n",
       "      <td>yelp</td>\n",
       "    </tr>\n",
       "    <tr>\n",
       "      <th>998</th>\n",
       "      <td>The whole experience was underwhelming, and I ...</td>\n",
       "      <td>0</td>\n",
       "      <td>yelp</td>\n",
       "    </tr>\n",
       "    <tr>\n",
       "      <th>999</th>\n",
       "      <td>Then, as if I hadn't wasted enough of my life ...</td>\n",
       "      <td>0</td>\n",
       "      <td>yelp</td>\n",
       "    </tr>\n",
       "  </tbody>\n",
       "</table>\n",
       "<p>1000 rows × 3 columns</p>\n",
       "</div>"
      ],
      "text/plain": [
       "                                                Review  Score Source\n",
       "0                             Wow... Loved this place.      1   yelp\n",
       "1                                   Crust is not good.      0   yelp\n",
       "2            Not tasty and the texture was just nasty.      0   yelp\n",
       "3    Stopped by during the late May bank holiday of...      1   yelp\n",
       "4    The selection on the menu was great and so wer...      1   yelp\n",
       "..                                                 ...    ...    ...\n",
       "995  I think food should have flavor and texture an...      0   yelp\n",
       "996                           Appetite instantly gone.      0   yelp\n",
       "997  Overall I was not impressed and would not go b...      0   yelp\n",
       "998  The whole experience was underwhelming, and I ...      0   yelp\n",
       "999  Then, as if I hadn't wasted enough of my life ...      0   yelp\n",
       "\n",
       "[1000 rows x 3 columns]"
      ]
     },
     "execution_count": 3,
     "metadata": {},
     "output_type": "execute_result"
    }
   ],
   "source": [
    "# read text file into pandas DataFrame\n",
    "yelp = pd.read_csv(\"yelp_labelled.txt\", sep='\\t', header=None, names = ['Review', 'Score'])\n",
    "yelp['Source'] = 'yelp'\n",
    "yelp"
   ]
  },
  {
   "cell_type": "code",
   "execution_count": 4,
   "id": "26ae059b-8bc3-4f3f-815a-abfd0b8bf54d",
   "metadata": {
    "tags": []
   },
   "outputs": [
    {
     "data": {
      "text/html": [
       "<div>\n",
       "<style scoped>\n",
       "    .dataframe tbody tr th:only-of-type {\n",
       "        vertical-align: middle;\n",
       "    }\n",
       "\n",
       "    .dataframe tbody tr th {\n",
       "        vertical-align: top;\n",
       "    }\n",
       "\n",
       "    .dataframe thead th {\n",
       "        text-align: right;\n",
       "    }\n",
       "</style>\n",
       "<table border=\"1\" class=\"dataframe\">\n",
       "  <thead>\n",
       "    <tr style=\"text-align: right;\">\n",
       "      <th></th>\n",
       "      <th>Review</th>\n",
       "      <th>Score</th>\n",
       "      <th>Source</th>\n",
       "    </tr>\n",
       "  </thead>\n",
       "  <tbody>\n",
       "    <tr>\n",
       "      <th>0</th>\n",
       "      <td>A very, very, very slow-moving, aimless movie ...</td>\n",
       "      <td>0</td>\n",
       "      <td>imdb</td>\n",
       "    </tr>\n",
       "    <tr>\n",
       "      <th>1</th>\n",
       "      <td>Not sure who was more lost - the flat characte...</td>\n",
       "      <td>0</td>\n",
       "      <td>imdb</td>\n",
       "    </tr>\n",
       "    <tr>\n",
       "      <th>2</th>\n",
       "      <td>Attempting artiness with black &amp; white and cle...</td>\n",
       "      <td>0</td>\n",
       "      <td>imdb</td>\n",
       "    </tr>\n",
       "    <tr>\n",
       "      <th>3</th>\n",
       "      <td>Very little music or anything to speak of.</td>\n",
       "      <td>0</td>\n",
       "      <td>imdb</td>\n",
       "    </tr>\n",
       "    <tr>\n",
       "      <th>4</th>\n",
       "      <td>The best scene in the movie was when Gerardo i...</td>\n",
       "      <td>1</td>\n",
       "      <td>imdb</td>\n",
       "    </tr>\n",
       "    <tr>\n",
       "      <th>...</th>\n",
       "      <td>...</td>\n",
       "      <td>...</td>\n",
       "      <td>...</td>\n",
       "    </tr>\n",
       "    <tr>\n",
       "      <th>995</th>\n",
       "      <td>I just got bored watching Jessice Lange take h...</td>\n",
       "      <td>0</td>\n",
       "      <td>imdb</td>\n",
       "    </tr>\n",
       "    <tr>\n",
       "      <th>996</th>\n",
       "      <td>Unfortunately, any virtue in this film's produ...</td>\n",
       "      <td>0</td>\n",
       "      <td>imdb</td>\n",
       "    </tr>\n",
       "    <tr>\n",
       "      <th>997</th>\n",
       "      <td>In a word, it is embarrassing.</td>\n",
       "      <td>0</td>\n",
       "      <td>imdb</td>\n",
       "    </tr>\n",
       "    <tr>\n",
       "      <th>998</th>\n",
       "      <td>Exceptionally bad!</td>\n",
       "      <td>0</td>\n",
       "      <td>imdb</td>\n",
       "    </tr>\n",
       "    <tr>\n",
       "      <th>999</th>\n",
       "      <td>All in all its an insult to one's intelligence...</td>\n",
       "      <td>0</td>\n",
       "      <td>imdb</td>\n",
       "    </tr>\n",
       "  </tbody>\n",
       "</table>\n",
       "<p>1000 rows × 3 columns</p>\n",
       "</div>"
      ],
      "text/plain": [
       "                                                Review  Score Source\n",
       "0    A very, very, very slow-moving, aimless movie ...      0   imdb\n",
       "1    Not sure who was more lost - the flat characte...      0   imdb\n",
       "2    Attempting artiness with black & white and cle...      0   imdb\n",
       "3           Very little music or anything to speak of.      0   imdb\n",
       "4    The best scene in the movie was when Gerardo i...      1   imdb\n",
       "..                                                 ...    ...    ...\n",
       "995  I just got bored watching Jessice Lange take h...      0   imdb\n",
       "996  Unfortunately, any virtue in this film's produ...      0   imdb\n",
       "997                     In a word, it is embarrassing.      0   imdb\n",
       "998                                 Exceptionally bad!      0   imdb\n",
       "999  All in all its an insult to one's intelligence...      0   imdb\n",
       "\n",
       "[1000 rows x 3 columns]"
      ]
     },
     "execution_count": 4,
     "metadata": {},
     "output_type": "execute_result"
    }
   ],
   "source": [
    "# read text file into pandas DataFrame\n",
    "imdb = pd.read_csv(\"imdb_labelled.txt\", sep='  \\t', header=None, names = ['Review', 'Score'])\n",
    "imdb['Source'] = 'imdb'\n",
    "imdb"
   ]
  },
  {
   "cell_type": "code",
   "execution_count": 5,
   "id": "6ee063c5-9bdf-4bf1-9666-6cf8e13e44a9",
   "metadata": {},
   "outputs": [
    {
     "data": {
      "text/html": [
       "<div>\n",
       "<style scoped>\n",
       "    .dataframe tbody tr th:only-of-type {\n",
       "        vertical-align: middle;\n",
       "    }\n",
       "\n",
       "    .dataframe tbody tr th {\n",
       "        vertical-align: top;\n",
       "    }\n",
       "\n",
       "    .dataframe thead th {\n",
       "        text-align: right;\n",
       "    }\n",
       "</style>\n",
       "<table border=\"1\" class=\"dataframe\">\n",
       "  <thead>\n",
       "    <tr style=\"text-align: right;\">\n",
       "      <th></th>\n",
       "      <th>Review</th>\n",
       "      <th>Score</th>\n",
       "      <th>Source</th>\n",
       "    </tr>\n",
       "  </thead>\n",
       "  <tbody>\n",
       "    <tr>\n",
       "      <th>0</th>\n",
       "      <td>So there is no way for me to plug it in here i...</td>\n",
       "      <td>0</td>\n",
       "      <td>amazon</td>\n",
       "    </tr>\n",
       "    <tr>\n",
       "      <th>1</th>\n",
       "      <td>Good case, Excellent value.</td>\n",
       "      <td>1</td>\n",
       "      <td>amazon</td>\n",
       "    </tr>\n",
       "    <tr>\n",
       "      <th>2</th>\n",
       "      <td>Great for the jawbone.</td>\n",
       "      <td>1</td>\n",
       "      <td>amazon</td>\n",
       "    </tr>\n",
       "    <tr>\n",
       "      <th>3</th>\n",
       "      <td>Tied to charger for conversations lasting more...</td>\n",
       "      <td>0</td>\n",
       "      <td>amazon</td>\n",
       "    </tr>\n",
       "    <tr>\n",
       "      <th>4</th>\n",
       "      <td>The mic is great.</td>\n",
       "      <td>1</td>\n",
       "      <td>amazon</td>\n",
       "    </tr>\n",
       "    <tr>\n",
       "      <th>...</th>\n",
       "      <td>...</td>\n",
       "      <td>...</td>\n",
       "      <td>...</td>\n",
       "    </tr>\n",
       "    <tr>\n",
       "      <th>2995</th>\n",
       "      <td>I just got bored watching Jessice Lange take h...</td>\n",
       "      <td>0</td>\n",
       "      <td>imdb</td>\n",
       "    </tr>\n",
       "    <tr>\n",
       "      <th>2996</th>\n",
       "      <td>Unfortunately, any virtue in this film's produ...</td>\n",
       "      <td>0</td>\n",
       "      <td>imdb</td>\n",
       "    </tr>\n",
       "    <tr>\n",
       "      <th>2997</th>\n",
       "      <td>In a word, it is embarrassing.</td>\n",
       "      <td>0</td>\n",
       "      <td>imdb</td>\n",
       "    </tr>\n",
       "    <tr>\n",
       "      <th>2998</th>\n",
       "      <td>Exceptionally bad!</td>\n",
       "      <td>0</td>\n",
       "      <td>imdb</td>\n",
       "    </tr>\n",
       "    <tr>\n",
       "      <th>2999</th>\n",
       "      <td>All in all its an insult to one's intelligence...</td>\n",
       "      <td>0</td>\n",
       "      <td>imdb</td>\n",
       "    </tr>\n",
       "  </tbody>\n",
       "</table>\n",
       "<p>3000 rows × 3 columns</p>\n",
       "</div>"
      ],
      "text/plain": [
       "                                                 Review  Score  Source\n",
       "0     So there is no way for me to plug it in here i...      0  amazon\n",
       "1                           Good case, Excellent value.      1  amazon\n",
       "2                                Great for the jawbone.      1  amazon\n",
       "3     Tied to charger for conversations lasting more...      0  amazon\n",
       "4                                     The mic is great.      1  amazon\n",
       "...                                                 ...    ...     ...\n",
       "2995  I just got bored watching Jessice Lange take h...      0    imdb\n",
       "2996  Unfortunately, any virtue in this film's produ...      0    imdb\n",
       "2997                     In a word, it is embarrassing.      0    imdb\n",
       "2998                                 Exceptionally bad!      0    imdb\n",
       "2999  All in all its an insult to one's intelligence...      0    imdb\n",
       "\n",
       "[3000 rows x 3 columns]"
      ]
     },
     "execution_count": 5,
     "metadata": {},
     "output_type": "execute_result"
    }
   ],
   "source": [
    "df = pd.concat([amazon, yelp, imdb], ignore_index= True)\n",
    "df"
   ]
  },
  {
   "cell_type": "markdown",
   "id": "ea206d42-87f9-48f8-a1a0-20f3abc18ba8",
   "metadata": {},
   "source": [
    "##### 3. Backup"
   ]
  },
  {
   "cell_type": "code",
   "execution_count": 6,
   "id": "3d7440f6-29d8-4d7c-8e1d-2fa2ab143bc1",
   "metadata": {},
   "outputs": [],
   "source": [
    "#Back up copy of origional data\n",
    "df_copy = df.copy(deep=True)"
   ]
  },
  {
   "cell_type": "markdown",
   "id": "f639d18b-1e2c-4bae-acdb-da6c19f14bf3",
   "metadata": {
    "tags": []
   },
   "source": [
    "##### 4. Examine data"
   ]
  },
  {
   "cell_type": "code",
   "execution_count": 7,
   "id": "497b34bb-b191-49dd-baf6-e5049db929ab",
   "metadata": {},
   "outputs": [
    {
     "data": {
      "text/html": [
       "<div>\n",
       "<style scoped>\n",
       "    .dataframe tbody tr th:only-of-type {\n",
       "        vertical-align: middle;\n",
       "    }\n",
       "\n",
       "    .dataframe tbody tr th {\n",
       "        vertical-align: top;\n",
       "    }\n",
       "\n",
       "    .dataframe thead th {\n",
       "        text-align: right;\n",
       "    }\n",
       "</style>\n",
       "<table border=\"1\" class=\"dataframe\">\n",
       "  <thead>\n",
       "    <tr style=\"text-align: right;\">\n",
       "      <th></th>\n",
       "      <th>Review</th>\n",
       "      <th>Score</th>\n",
       "      <th>Source</th>\n",
       "    </tr>\n",
       "  </thead>\n",
       "  <tbody>\n",
       "    <tr>\n",
       "      <th>0</th>\n",
       "      <td>So there is no way for me to plug it in here in the US unless I go by a converter.</td>\n",
       "      <td>0</td>\n",
       "      <td>amazon</td>\n",
       "    </tr>\n",
       "    <tr>\n",
       "      <th>1</th>\n",
       "      <td>Good case, Excellent value.</td>\n",
       "      <td>1</td>\n",
       "      <td>amazon</td>\n",
       "    </tr>\n",
       "    <tr>\n",
       "      <th>2</th>\n",
       "      <td>Great for the jawbone.</td>\n",
       "      <td>1</td>\n",
       "      <td>amazon</td>\n",
       "    </tr>\n",
       "    <tr>\n",
       "      <th>3</th>\n",
       "      <td>Tied to charger for conversations lasting more than 45 minutes.MAJOR PROBLEMS!!</td>\n",
       "      <td>0</td>\n",
       "      <td>amazon</td>\n",
       "    </tr>\n",
       "    <tr>\n",
       "      <th>4</th>\n",
       "      <td>The mic is great.</td>\n",
       "      <td>1</td>\n",
       "      <td>amazon</td>\n",
       "    </tr>\n",
       "  </tbody>\n",
       "</table>\n",
       "</div>"
      ],
      "text/plain": [
       "                                                                               Review  \\\n",
       "0  So there is no way for me to plug it in here in the US unless I go by a converter.   \n",
       "1                                                         Good case, Excellent value.   \n",
       "2                                                              Great for the jawbone.   \n",
       "3     Tied to charger for conversations lasting more than 45 minutes.MAJOR PROBLEMS!!   \n",
       "4                                                                   The mic is great.   \n",
       "\n",
       "   Score  Source  \n",
       "0      0  amazon  \n",
       "1      1  amazon  \n",
       "2      1  amazon  \n",
       "3      0  amazon  \n",
       "4      1  amazon  "
      ]
     },
     "execution_count": 7,
     "metadata": {},
     "output_type": "execute_result"
    }
   ],
   "source": [
    "pd.options.display.max_colwidth = 200\n",
    "df.head()"
   ]
  },
  {
   "cell_type": "code",
   "execution_count": 8,
   "id": "47e60939-fb94-439f-afc1-b17637533fbe",
   "metadata": {},
   "outputs": [
    {
     "data": {
      "text/plain": [
       "(3000, 3)"
      ]
     },
     "execution_count": 8,
     "metadata": {},
     "output_type": "execute_result"
    }
   ],
   "source": [
    "df.shape"
   ]
  },
  {
   "cell_type": "code",
   "execution_count": 9,
   "id": "b64203f9-faf8-4072-99b0-57f3d9d5b5d4",
   "metadata": {},
   "outputs": [
    {
     "name": "stdout",
     "output_type": "stream",
     "text": [
      "<class 'pandas.core.frame.DataFrame'>\n",
      "RangeIndex: 3000 entries, 0 to 2999\n",
      "Data columns (total 3 columns):\n",
      " #   Column  Non-Null Count  Dtype \n",
      "---  ------  --------------  ----- \n",
      " 0   Review  3000 non-null   object\n",
      " 1   Score   3000 non-null   int64 \n",
      " 2   Source  3000 non-null   object\n",
      "dtypes: int64(1), object(2)\n",
      "memory usage: 70.4+ KB\n"
     ]
    }
   ],
   "source": [
    "df.info() #Column names, data types, non-nulls"
   ]
  },
  {
   "cell_type": "code",
   "execution_count": 10,
   "id": "ffc49e92-5d93-43a2-88aa-7496d287d9fb",
   "metadata": {
    "tags": []
   },
   "outputs": [
    {
     "data": {
      "text/html": [
       "<div>\n",
       "<style scoped>\n",
       "    .dataframe tbody tr th:only-of-type {\n",
       "        vertical-align: middle;\n",
       "    }\n",
       "\n",
       "    .dataframe tbody tr th {\n",
       "        vertical-align: top;\n",
       "    }\n",
       "\n",
       "    .dataframe thead th {\n",
       "        text-align: right;\n",
       "    }\n",
       "</style>\n",
       "<table border=\"1\" class=\"dataframe\">\n",
       "  <thead>\n",
       "    <tr style=\"text-align: right;\">\n",
       "      <th></th>\n",
       "      <th>Score</th>\n",
       "    </tr>\n",
       "  </thead>\n",
       "  <tbody>\n",
       "    <tr>\n",
       "      <th>count</th>\n",
       "      <td>3000.000000</td>\n",
       "    </tr>\n",
       "    <tr>\n",
       "      <th>mean</th>\n",
       "      <td>0.500000</td>\n",
       "    </tr>\n",
       "    <tr>\n",
       "      <th>std</th>\n",
       "      <td>0.500083</td>\n",
       "    </tr>\n",
       "    <tr>\n",
       "      <th>min</th>\n",
       "      <td>0.000000</td>\n",
       "    </tr>\n",
       "    <tr>\n",
       "      <th>25%</th>\n",
       "      <td>0.000000</td>\n",
       "    </tr>\n",
       "    <tr>\n",
       "      <th>50%</th>\n",
       "      <td>0.500000</td>\n",
       "    </tr>\n",
       "    <tr>\n",
       "      <th>75%</th>\n",
       "      <td>1.000000</td>\n",
       "    </tr>\n",
       "    <tr>\n",
       "      <th>max</th>\n",
       "      <td>1.000000</td>\n",
       "    </tr>\n",
       "  </tbody>\n",
       "</table>\n",
       "</div>"
      ],
      "text/plain": [
       "             Score\n",
       "count  3000.000000\n",
       "mean      0.500000\n",
       "std       0.500083\n",
       "min       0.000000\n",
       "25%       0.000000\n",
       "50%       0.500000\n",
       "75%       1.000000\n",
       "max       1.000000"
      ]
     },
     "execution_count": 10,
     "metadata": {},
     "output_type": "execute_result"
    }
   ],
   "source": [
    "df.describe() #Numeric values- count, min, max, mean"
   ]
  },
  {
   "cell_type": "code",
   "execution_count": 11,
   "id": "90f297d7-7237-49ae-acf4-c9c7488bccea",
   "metadata": {},
   "outputs": [
    {
     "data": {
      "text/html": [
       "<div>\n",
       "<style scoped>\n",
       "    .dataframe tbody tr th:only-of-type {\n",
       "        vertical-align: middle;\n",
       "    }\n",
       "\n",
       "    .dataframe tbody tr th {\n",
       "        vertical-align: top;\n",
       "    }\n",
       "\n",
       "    .dataframe thead th {\n",
       "        text-align: right;\n",
       "    }\n",
       "</style>\n",
       "<table border=\"1\" class=\"dataframe\">\n",
       "  <thead>\n",
       "    <tr style=\"text-align: right;\">\n",
       "      <th></th>\n",
       "      <th>Review</th>\n",
       "      <th>Source</th>\n",
       "    </tr>\n",
       "  </thead>\n",
       "  <tbody>\n",
       "    <tr>\n",
       "      <th>count</th>\n",
       "      <td>3000</td>\n",
       "      <td>3000</td>\n",
       "    </tr>\n",
       "    <tr>\n",
       "      <th>unique</th>\n",
       "      <td>2982</td>\n",
       "      <td>3</td>\n",
       "    </tr>\n",
       "    <tr>\n",
       "      <th>top</th>\n",
       "      <td>Great Phone.</td>\n",
       "      <td>imdb</td>\n",
       "    </tr>\n",
       "    <tr>\n",
       "      <th>freq</th>\n",
       "      <td>2</td>\n",
       "      <td>1000</td>\n",
       "    </tr>\n",
       "  </tbody>\n",
       "</table>\n",
       "</div>"
      ],
      "text/plain": [
       "              Review Source\n",
       "count           3000   3000\n",
       "unique          2982      3\n",
       "top     Great Phone.   imdb\n",
       "freq               2   1000"
      ]
     },
     "execution_count": 11,
     "metadata": {},
     "output_type": "execute_result"
    }
   ],
   "source": [
    "df.describe(include= object)"
   ]
  },
  {
   "cell_type": "code",
   "execution_count": 12,
   "id": "d6d0190a-a9df-4ef2-bd54-6b975ca54726",
   "metadata": {},
   "outputs": [
    {
     "data": {
      "text/plain": [
       "Review    False\n",
       "Score     False\n",
       "Source    False\n",
       "dtype: bool"
      ]
     },
     "execution_count": 12,
     "metadata": {},
     "output_type": "execute_result"
    }
   ],
   "source": [
    "df.isnull().any()"
   ]
  },
  {
   "cell_type": "code",
   "execution_count": 13,
   "id": "d2c1aea5-38b6-4768-b1a3-e77fa7eea7e9",
   "metadata": {},
   "outputs": [
    {
     "data": {
      "text/plain": [
       "17"
      ]
     },
     "execution_count": 13,
     "metadata": {},
     "output_type": "execute_result"
    }
   ],
   "source": [
    "df.duplicated().sum()"
   ]
  },
  {
   "cell_type": "code",
   "execution_count": 14,
   "id": "6e3f808f-c0fb-43c9-ad7c-d5391d36796c",
   "metadata": {},
   "outputs": [
    {
     "data": {
      "text/html": [
       "<div>\n",
       "<style scoped>\n",
       "    .dataframe tbody tr th:only-of-type {\n",
       "        vertical-align: middle;\n",
       "    }\n",
       "\n",
       "    .dataframe tbody tr th {\n",
       "        vertical-align: top;\n",
       "    }\n",
       "\n",
       "    .dataframe thead th {\n",
       "        text-align: right;\n",
       "    }\n",
       "</style>\n",
       "<table border=\"1\" class=\"dataframe\">\n",
       "  <thead>\n",
       "    <tr style=\"text-align: right;\">\n",
       "      <th></th>\n",
       "      <th>Review</th>\n",
       "      <th>Score</th>\n",
       "      <th>Source</th>\n",
       "    </tr>\n",
       "  </thead>\n",
       "  <tbody>\n",
       "    <tr>\n",
       "      <th>18</th>\n",
       "      <td>Works great!.</td>\n",
       "      <td>1</td>\n",
       "      <td>amazon</td>\n",
       "    </tr>\n",
       "    <tr>\n",
       "      <th>179</th>\n",
       "      <td>If you like a loud buzzing to override all your conversations, then this phone is for you!</td>\n",
       "      <td>0</td>\n",
       "      <td>amazon</td>\n",
       "    </tr>\n",
       "    <tr>\n",
       "      <th>180</th>\n",
       "      <td>Don't buy this product.</td>\n",
       "      <td>0</td>\n",
       "      <td>amazon</td>\n",
       "    </tr>\n",
       "    <tr>\n",
       "      <th>187</th>\n",
       "      <td>Great phone!.</td>\n",
       "      <td>1</td>\n",
       "      <td>amazon</td>\n",
       "    </tr>\n",
       "    <tr>\n",
       "      <th>262</th>\n",
       "      <td>Works great.</td>\n",
       "      <td>1</td>\n",
       "      <td>amazon</td>\n",
       "    </tr>\n",
       "    <tr>\n",
       "      <th>285</th>\n",
       "      <td>Great phone!.</td>\n",
       "      <td>1</td>\n",
       "      <td>amazon</td>\n",
       "    </tr>\n",
       "    <tr>\n",
       "      <th>290</th>\n",
       "      <td>Great Phone.</td>\n",
       "      <td>1</td>\n",
       "      <td>amazon</td>\n",
       "    </tr>\n",
       "    <tr>\n",
       "      <th>392</th>\n",
       "      <td>This is a great deal.</td>\n",
       "      <td>1</td>\n",
       "      <td>amazon</td>\n",
       "    </tr>\n",
       "    <tr>\n",
       "      <th>402</th>\n",
       "      <td>Excellent product for the price.</td>\n",
       "      <td>1</td>\n",
       "      <td>amazon</td>\n",
       "    </tr>\n",
       "    <tr>\n",
       "      <th>407</th>\n",
       "      <td>Works great.</td>\n",
       "      <td>1</td>\n",
       "      <td>amazon</td>\n",
       "    </tr>\n",
       "    <tr>\n",
       "      <th>446</th>\n",
       "      <td>Does not fit.</td>\n",
       "      <td>0</td>\n",
       "      <td>amazon</td>\n",
       "    </tr>\n",
       "    <tr>\n",
       "      <th>524</th>\n",
       "      <td>Works great!.</td>\n",
       "      <td>1</td>\n",
       "      <td>amazon</td>\n",
       "    </tr>\n",
       "    <tr>\n",
       "      <th>543</th>\n",
       "      <td>Don't buy this product.</td>\n",
       "      <td>0</td>\n",
       "      <td>amazon</td>\n",
       "    </tr>\n",
       "    <tr>\n",
       "      <th>647</th>\n",
       "      <td>Great phone.</td>\n",
       "      <td>1</td>\n",
       "      <td>amazon</td>\n",
       "    </tr>\n",
       "    <tr>\n",
       "      <th>744</th>\n",
       "      <td>If you like a loud buzzing to override all your conversations, then this phone is for you!</td>\n",
       "      <td>0</td>\n",
       "      <td>amazon</td>\n",
       "    </tr>\n",
       "    <tr>\n",
       "      <th>748</th>\n",
       "      <td>Does not fit.</td>\n",
       "      <td>0</td>\n",
       "      <td>amazon</td>\n",
       "    </tr>\n",
       "    <tr>\n",
       "      <th>778</th>\n",
       "      <td>This is a great deal.</td>\n",
       "      <td>1</td>\n",
       "      <td>amazon</td>\n",
       "    </tr>\n",
       "    <tr>\n",
       "      <th>792</th>\n",
       "      <td>Great Phone.</td>\n",
       "      <td>1</td>\n",
       "      <td>amazon</td>\n",
       "    </tr>\n",
       "    <tr>\n",
       "      <th>892</th>\n",
       "      <td>Excellent product for the price.</td>\n",
       "      <td>1</td>\n",
       "      <td>amazon</td>\n",
       "    </tr>\n",
       "    <tr>\n",
       "      <th>896</th>\n",
       "      <td>Great phone.</td>\n",
       "      <td>1</td>\n",
       "      <td>amazon</td>\n",
       "    </tr>\n",
       "    <tr>\n",
       "      <th>1334</th>\n",
       "      <td>I love this place.</td>\n",
       "      <td>1</td>\n",
       "      <td>yelp</td>\n",
       "    </tr>\n",
       "    <tr>\n",
       "      <th>1380</th>\n",
       "      <td>I won't be back.</td>\n",
       "      <td>0</td>\n",
       "      <td>yelp</td>\n",
       "    </tr>\n",
       "    <tr>\n",
       "      <th>1383</th>\n",
       "      <td>The food was terrible.</td>\n",
       "      <td>0</td>\n",
       "      <td>yelp</td>\n",
       "    </tr>\n",
       "    <tr>\n",
       "      <th>1505</th>\n",
       "      <td>I would not recommend this place.</td>\n",
       "      <td>0</td>\n",
       "      <td>yelp</td>\n",
       "    </tr>\n",
       "    <tr>\n",
       "      <th>1814</th>\n",
       "      <td>I love this place.</td>\n",
       "      <td>1</td>\n",
       "      <td>yelp</td>\n",
       "    </tr>\n",
       "    <tr>\n",
       "      <th>1816</th>\n",
       "      <td>The food was terrible.</td>\n",
       "      <td>0</td>\n",
       "      <td>yelp</td>\n",
       "    </tr>\n",
       "    <tr>\n",
       "      <th>1843</th>\n",
       "      <td>I won't be back.</td>\n",
       "      <td>0</td>\n",
       "      <td>yelp</td>\n",
       "    </tr>\n",
       "    <tr>\n",
       "      <th>1846</th>\n",
       "      <td>I would not recommend this place.</td>\n",
       "      <td>0</td>\n",
       "      <td>yelp</td>\n",
       "    </tr>\n",
       "    <tr>\n",
       "      <th>2090</th>\n",
       "      <td>Definitely worth checking out.</td>\n",
       "      <td>1</td>\n",
       "      <td>imdb</td>\n",
       "    </tr>\n",
       "    <tr>\n",
       "      <th>2125</th>\n",
       "      <td>10/10</td>\n",
       "      <td>1</td>\n",
       "      <td>imdb</td>\n",
       "    </tr>\n",
       "    <tr>\n",
       "      <th>2363</th>\n",
       "      <td>Definitely worth checking out.</td>\n",
       "      <td>1</td>\n",
       "      <td>imdb</td>\n",
       "    </tr>\n",
       "    <tr>\n",
       "      <th>2572</th>\n",
       "      <td>Not recommended.</td>\n",
       "      <td>0</td>\n",
       "      <td>imdb</td>\n",
       "    </tr>\n",
       "    <tr>\n",
       "      <th>2585</th>\n",
       "      <td>Not recommended.</td>\n",
       "      <td>0</td>\n",
       "      <td>imdb</td>\n",
       "    </tr>\n",
       "    <tr>\n",
       "      <th>2788</th>\n",
       "      <td>10/10</td>\n",
       "      <td>1</td>\n",
       "      <td>imdb</td>\n",
       "    </tr>\n",
       "  </tbody>\n",
       "</table>\n",
       "</div>"
      ],
      "text/plain": [
       "                                                                                          Review  \\\n",
       "18                                                                                 Works great!.   \n",
       "179   If you like a loud buzzing to override all your conversations, then this phone is for you!   \n",
       "180                                                                      Don't buy this product.   \n",
       "187                                                                                Great phone!.   \n",
       "262                                                                                 Works great.   \n",
       "285                                                                                Great phone!.   \n",
       "290                                                                                 Great Phone.   \n",
       "392                                                                        This is a great deal.   \n",
       "402                                                             Excellent product for the price.   \n",
       "407                                                                                 Works great.   \n",
       "446                                                                                Does not fit.   \n",
       "524                                                                                Works great!.   \n",
       "543                                                                      Don't buy this product.   \n",
       "647                                                                                 Great phone.   \n",
       "744   If you like a loud buzzing to override all your conversations, then this phone is for you!   \n",
       "748                                                                                Does not fit.   \n",
       "778                                                                        This is a great deal.   \n",
       "792                                                                                 Great Phone.   \n",
       "892                                                             Excellent product for the price.   \n",
       "896                                                                                 Great phone.   \n",
       "1334                                                                          I love this place.   \n",
       "1380                                                                            I won't be back.   \n",
       "1383                                                                      The food was terrible.   \n",
       "1505                                                           I would not recommend this place.   \n",
       "1814                                                                          I love this place.   \n",
       "1816                                                                      The food was terrible.   \n",
       "1843                                                                            I won't be back.   \n",
       "1846                                                           I would not recommend this place.   \n",
       "2090                                                              Definitely worth checking out.   \n",
       "2125                                                                                       10/10   \n",
       "2363                                                              Definitely worth checking out.   \n",
       "2572                                                                            Not recommended.   \n",
       "2585                                                                            Not recommended.   \n",
       "2788                                                                                       10/10   \n",
       "\n",
       "      Score  Source  \n",
       "18        1  amazon  \n",
       "179       0  amazon  \n",
       "180       0  amazon  \n",
       "187       1  amazon  \n",
       "262       1  amazon  \n",
       "285       1  amazon  \n",
       "290       1  amazon  \n",
       "392       1  amazon  \n",
       "402       1  amazon  \n",
       "407       1  amazon  \n",
       "446       0  amazon  \n",
       "524       1  amazon  \n",
       "543       0  amazon  \n",
       "647       1  amazon  \n",
       "744       0  amazon  \n",
       "748       0  amazon  \n",
       "778       1  amazon  \n",
       "792       1  amazon  \n",
       "892       1  amazon  \n",
       "896       1  amazon  \n",
       "1334      1    yelp  \n",
       "1380      0    yelp  \n",
       "1383      0    yelp  \n",
       "1505      0    yelp  \n",
       "1814      1    yelp  \n",
       "1816      0    yelp  \n",
       "1843      0    yelp  \n",
       "1846      0    yelp  \n",
       "2090      1    imdb  \n",
       "2125      1    imdb  \n",
       "2363      1    imdb  \n",
       "2572      0    imdb  \n",
       "2585      0    imdb  \n",
       "2788      1    imdb  "
      ]
     },
     "execution_count": 14,
     "metadata": {},
     "output_type": "execute_result"
    }
   ],
   "source": [
    "duplicate = df[df.duplicated(keep=False)]\n",
    "duplicate"
   ]
  },
  {
   "cell_type": "code",
   "execution_count": 15,
   "id": "c3686f97-5073-4ee4-9918-ea84de388441",
   "metadata": {
    "tags": []
   },
   "outputs": [
    {
     "data": {
      "text/html": [
       "<div>\n",
       "<style scoped>\n",
       "    .dataframe tbody tr th:only-of-type {\n",
       "        vertical-align: middle;\n",
       "    }\n",
       "\n",
       "    .dataframe tbody tr th {\n",
       "        vertical-align: top;\n",
       "    }\n",
       "\n",
       "    .dataframe thead th {\n",
       "        text-align: right;\n",
       "    }\n",
       "</style>\n",
       "<table border=\"1\" class=\"dataframe\">\n",
       "  <thead>\n",
       "    <tr style=\"text-align: right;\">\n",
       "      <th></th>\n",
       "      <th>Review</th>\n",
       "      <th>Score</th>\n",
       "      <th>Source</th>\n",
       "    </tr>\n",
       "  </thead>\n",
       "  <tbody>\n",
       "    <tr>\n",
       "      <th>0</th>\n",
       "      <td>So there is no way for me to plug it in here in the US unless I go by a converter.</td>\n",
       "      <td>0</td>\n",
       "      <td>amazon</td>\n",
       "    </tr>\n",
       "    <tr>\n",
       "      <th>1</th>\n",
       "      <td>Good case, Excellent value.</td>\n",
       "      <td>1</td>\n",
       "      <td>amazon</td>\n",
       "    </tr>\n",
       "    <tr>\n",
       "      <th>2</th>\n",
       "      <td>Great for the jawbone.</td>\n",
       "      <td>1</td>\n",
       "      <td>amazon</td>\n",
       "    </tr>\n",
       "    <tr>\n",
       "      <th>3</th>\n",
       "      <td>Tied to charger for conversations lasting more than 45 minutes.MAJOR PROBLEMS!!</td>\n",
       "      <td>0</td>\n",
       "      <td>amazon</td>\n",
       "    </tr>\n",
       "    <tr>\n",
       "      <th>4</th>\n",
       "      <td>The mic is great.</td>\n",
       "      <td>1</td>\n",
       "      <td>amazon</td>\n",
       "    </tr>\n",
       "    <tr>\n",
       "      <th>...</th>\n",
       "      <td>...</td>\n",
       "      <td>...</td>\n",
       "      <td>...</td>\n",
       "    </tr>\n",
       "    <tr>\n",
       "      <th>2995</th>\n",
       "      <td>I just got bored watching Jessice Lange take her clothes off!</td>\n",
       "      <td>0</td>\n",
       "      <td>imdb</td>\n",
       "    </tr>\n",
       "    <tr>\n",
       "      <th>2996</th>\n",
       "      <td>Unfortunately, any virtue in this film's production work was lost on a regrettable script.</td>\n",
       "      <td>0</td>\n",
       "      <td>imdb</td>\n",
       "    </tr>\n",
       "    <tr>\n",
       "      <th>2997</th>\n",
       "      <td>In a word, it is embarrassing.</td>\n",
       "      <td>0</td>\n",
       "      <td>imdb</td>\n",
       "    </tr>\n",
       "    <tr>\n",
       "      <th>2998</th>\n",
       "      <td>Exceptionally bad!</td>\n",
       "      <td>0</td>\n",
       "      <td>imdb</td>\n",
       "    </tr>\n",
       "    <tr>\n",
       "      <th>2999</th>\n",
       "      <td>All in all its an insult to one's intelligence and a huge waste of money.</td>\n",
       "      <td>0</td>\n",
       "      <td>imdb</td>\n",
       "    </tr>\n",
       "  </tbody>\n",
       "</table>\n",
       "<p>2983 rows × 3 columns</p>\n",
       "</div>"
      ],
      "text/plain": [
       "                                                                                          Review  \\\n",
       "0             So there is no way for me to plug it in here in the US unless I go by a converter.   \n",
       "1                                                                    Good case, Excellent value.   \n",
       "2                                                                         Great for the jawbone.   \n",
       "3                Tied to charger for conversations lasting more than 45 minutes.MAJOR PROBLEMS!!   \n",
       "4                                                                              The mic is great.   \n",
       "...                                                                                          ...   \n",
       "2995                               I just got bored watching Jessice Lange take her clothes off!   \n",
       "2996  Unfortunately, any virtue in this film's production work was lost on a regrettable script.   \n",
       "2997                                                              In a word, it is embarrassing.   \n",
       "2998                                                                          Exceptionally bad!   \n",
       "2999                   All in all its an insult to one's intelligence and a huge waste of money.   \n",
       "\n",
       "      Score  Source  \n",
       "0         0  amazon  \n",
       "1         1  amazon  \n",
       "2         1  amazon  \n",
       "3         0  amazon  \n",
       "4         1  amazon  \n",
       "...     ...     ...  \n",
       "2995      0    imdb  \n",
       "2996      0    imdb  \n",
       "2997      0    imdb  \n",
       "2998      0    imdb  \n",
       "2999      0    imdb  \n",
       "\n",
       "[2983 rows x 3 columns]"
      ]
     },
     "execution_count": 15,
     "metadata": {},
     "output_type": "execute_result"
    }
   ],
   "source": [
    "df = df.drop_duplicates()\n",
    "df"
   ]
  },
  {
   "cell_type": "code",
   "execution_count": 16,
   "id": "a9813869-434e-4ce0-80cc-be9dea9eecb7",
   "metadata": {},
   "outputs": [
    {
     "data": {
      "text/html": [
       "<div>\n",
       "<style scoped>\n",
       "    .dataframe tbody tr th:only-of-type {\n",
       "        vertical-align: middle;\n",
       "    }\n",
       "\n",
       "    .dataframe tbody tr th {\n",
       "        vertical-align: top;\n",
       "    }\n",
       "\n",
       "    .dataframe thead th {\n",
       "        text-align: right;\n",
       "    }\n",
       "</style>\n",
       "<table border=\"1\" class=\"dataframe\">\n",
       "  <thead>\n",
       "    <tr style=\"text-align: right;\">\n",
       "      <th></th>\n",
       "      <th>Review</th>\n",
       "      <th>Score</th>\n",
       "      <th>Source</th>\n",
       "    </tr>\n",
       "  </thead>\n",
       "  <tbody>\n",
       "    <tr>\n",
       "      <th>0</th>\n",
       "      <td>So there is no way for me to plug it in here in the US unless I go by a converter.</td>\n",
       "      <td>0</td>\n",
       "      <td>amazon</td>\n",
       "    </tr>\n",
       "    <tr>\n",
       "      <th>1</th>\n",
       "      <td>Good case, Excellent value.</td>\n",
       "      <td>1</td>\n",
       "      <td>amazon</td>\n",
       "    </tr>\n",
       "    <tr>\n",
       "      <th>2</th>\n",
       "      <td>Great for the jawbone.</td>\n",
       "      <td>1</td>\n",
       "      <td>amazon</td>\n",
       "    </tr>\n",
       "    <tr>\n",
       "      <th>3</th>\n",
       "      <td>Tied to charger for conversations lasting more than 45 minutes.MAJOR PROBLEMS!!</td>\n",
       "      <td>0</td>\n",
       "      <td>amazon</td>\n",
       "    </tr>\n",
       "    <tr>\n",
       "      <th>4</th>\n",
       "      <td>The mic is great.</td>\n",
       "      <td>1</td>\n",
       "      <td>amazon</td>\n",
       "    </tr>\n",
       "    <tr>\n",
       "      <th>...</th>\n",
       "      <td>...</td>\n",
       "      <td>...</td>\n",
       "      <td>...</td>\n",
       "    </tr>\n",
       "    <tr>\n",
       "      <th>2978</th>\n",
       "      <td>I just got bored watching Jessice Lange take her clothes off!</td>\n",
       "      <td>0</td>\n",
       "      <td>imdb</td>\n",
       "    </tr>\n",
       "    <tr>\n",
       "      <th>2979</th>\n",
       "      <td>Unfortunately, any virtue in this film's production work was lost on a regrettable script.</td>\n",
       "      <td>0</td>\n",
       "      <td>imdb</td>\n",
       "    </tr>\n",
       "    <tr>\n",
       "      <th>2980</th>\n",
       "      <td>In a word, it is embarrassing.</td>\n",
       "      <td>0</td>\n",
       "      <td>imdb</td>\n",
       "    </tr>\n",
       "    <tr>\n",
       "      <th>2981</th>\n",
       "      <td>Exceptionally bad!</td>\n",
       "      <td>0</td>\n",
       "      <td>imdb</td>\n",
       "    </tr>\n",
       "    <tr>\n",
       "      <th>2982</th>\n",
       "      <td>All in all its an insult to one's intelligence and a huge waste of money.</td>\n",
       "      <td>0</td>\n",
       "      <td>imdb</td>\n",
       "    </tr>\n",
       "  </tbody>\n",
       "</table>\n",
       "<p>2983 rows × 3 columns</p>\n",
       "</div>"
      ],
      "text/plain": [
       "                                                                                          Review  \\\n",
       "0             So there is no way for me to plug it in here in the US unless I go by a converter.   \n",
       "1                                                                    Good case, Excellent value.   \n",
       "2                                                                         Great for the jawbone.   \n",
       "3                Tied to charger for conversations lasting more than 45 minutes.MAJOR PROBLEMS!!   \n",
       "4                                                                              The mic is great.   \n",
       "...                                                                                          ...   \n",
       "2978                               I just got bored watching Jessice Lange take her clothes off!   \n",
       "2979  Unfortunately, any virtue in this film's production work was lost on a regrettable script.   \n",
       "2980                                                              In a word, it is embarrassing.   \n",
       "2981                                                                          Exceptionally bad!   \n",
       "2982                   All in all its an insult to one's intelligence and a huge waste of money.   \n",
       "\n",
       "      Score  Source  \n",
       "0         0  amazon  \n",
       "1         1  amazon  \n",
       "2         1  amazon  \n",
       "3         0  amazon  \n",
       "4         1  amazon  \n",
       "...     ...     ...  \n",
       "2978      0    imdb  \n",
       "2979      0    imdb  \n",
       "2980      0    imdb  \n",
       "2981      0    imdb  \n",
       "2982      0    imdb  \n",
       "\n",
       "[2983 rows x 3 columns]"
      ]
     },
     "execution_count": 16,
     "metadata": {},
     "output_type": "execute_result"
    }
   ],
   "source": [
    "df = df.reset_index()\n",
    "df = df.drop('index', axis=1)\n",
    "df"
   ]
  },
  {
   "cell_type": "code",
   "execution_count": 17,
   "id": "39369960-3afe-4e40-9a8a-550299eca2ac",
   "metadata": {},
   "outputs": [
    {
     "data": {
      "text/plain": [
       "0    1493\n",
       "1    1490\n",
       "Name: Score, dtype: int64"
      ]
     },
     "execution_count": 17,
     "metadata": {},
     "output_type": "execute_result"
    }
   ],
   "source": [
    "# 0 and 1 are the only values, roughly equal distribution\n",
    "df['Score'].value_counts()"
   ]
  },
  {
   "cell_type": "code",
   "execution_count": 18,
   "id": "7bf15aab-6104-4379-a820-23417023ad23",
   "metadata": {},
   "outputs": [],
   "source": [
    "#https://wgu.udemy.com/course/text-analysis-and-natural-language-processing-with-python/learn/lecture/26436610#overview\n",
    "# number of charaters \n",
    "df['Length'] = df['Review'].str.len()\n",
    "\n",
    "# number of words\n",
    "df[\"Words\"] = df[\"Review\"].str.split().str.len()"
   ]
  },
  {
   "cell_type": "code",
   "execution_count": 19,
   "id": "3731d702-df07-4cde-8229-7b6bdee3cf43",
   "metadata": {},
   "outputs": [
    {
     "data": {
      "text/html": [
       "<div>\n",
       "<style scoped>\n",
       "    .dataframe tbody tr th:only-of-type {\n",
       "        vertical-align: middle;\n",
       "    }\n",
       "\n",
       "    .dataframe tbody tr th {\n",
       "        vertical-align: top;\n",
       "    }\n",
       "\n",
       "    .dataframe thead th {\n",
       "        text-align: right;\n",
       "    }\n",
       "</style>\n",
       "<table border=\"1\" class=\"dataframe\">\n",
       "  <thead>\n",
       "    <tr style=\"text-align: right;\">\n",
       "      <th></th>\n",
       "      <th>Review</th>\n",
       "      <th>Score</th>\n",
       "      <th>Source</th>\n",
       "      <th>Length</th>\n",
       "      <th>Words</th>\n",
       "    </tr>\n",
       "  </thead>\n",
       "  <tbody>\n",
       "    <tr>\n",
       "      <th>0</th>\n",
       "      <td>So there is no way for me to plug it in here in the US unless I go by a converter.</td>\n",
       "      <td>0</td>\n",
       "      <td>amazon</td>\n",
       "      <td>82</td>\n",
       "      <td>21</td>\n",
       "    </tr>\n",
       "    <tr>\n",
       "      <th>1</th>\n",
       "      <td>Good case, Excellent value.</td>\n",
       "      <td>1</td>\n",
       "      <td>amazon</td>\n",
       "      <td>27</td>\n",
       "      <td>4</td>\n",
       "    </tr>\n",
       "    <tr>\n",
       "      <th>2</th>\n",
       "      <td>Great for the jawbone.</td>\n",
       "      <td>1</td>\n",
       "      <td>amazon</td>\n",
       "      <td>22</td>\n",
       "      <td>4</td>\n",
       "    </tr>\n",
       "    <tr>\n",
       "      <th>3</th>\n",
       "      <td>Tied to charger for conversations lasting more than 45 minutes.MAJOR PROBLEMS!!</td>\n",
       "      <td>0</td>\n",
       "      <td>amazon</td>\n",
       "      <td>79</td>\n",
       "      <td>11</td>\n",
       "    </tr>\n",
       "    <tr>\n",
       "      <th>4</th>\n",
       "      <td>The mic is great.</td>\n",
       "      <td>1</td>\n",
       "      <td>amazon</td>\n",
       "      <td>17</td>\n",
       "      <td>4</td>\n",
       "    </tr>\n",
       "  </tbody>\n",
       "</table>\n",
       "</div>"
      ],
      "text/plain": [
       "                                                                               Review  \\\n",
       "0  So there is no way for me to plug it in here in the US unless I go by a converter.   \n",
       "1                                                         Good case, Excellent value.   \n",
       "2                                                              Great for the jawbone.   \n",
       "3     Tied to charger for conversations lasting more than 45 minutes.MAJOR PROBLEMS!!   \n",
       "4                                                                   The mic is great.   \n",
       "\n",
       "   Score  Source  Length  Words  \n",
       "0      0  amazon      82     21  \n",
       "1      1  amazon      27      4  \n",
       "2      1  amazon      22      4  \n",
       "3      0  amazon      79     11  \n",
       "4      1  amazon      17      4  "
      ]
     },
     "execution_count": 19,
     "metadata": {},
     "output_type": "execute_result"
    }
   ],
   "source": [
    "df.head()"
   ]
  },
  {
   "cell_type": "code",
   "execution_count": 20,
   "id": "9d3600cb-d697-4794-bade-3e2c8cb3f4fc",
   "metadata": {
    "tags": []
   },
   "outputs": [
    {
     "name": "stdout",
     "output_type": "stream",
     "text": [
      "Length min:  5 , max:  477 , avg:  64.85\n",
      "Words min:  1 , max:  71 , avg:  11.88\n"
     ]
    }
   ],
   "source": [
    "print('Length min: ',df.Length.min(),', max: ', df.Length.max(),', avg: ', '{:.2f}'.format(df.Length.mean()))\n",
    "print('Words min: ',df.Words.min(),', max: ', df.Words.max(),', avg: ', '{:.2f}'.format(df.Words.mean()))"
   ]
  },
  {
   "cell_type": "markdown",
   "id": "3dea0cb8-1862-45b7-9392-3972f492a5d2",
   "metadata": {},
   "source": [
    "**Characters**"
   ]
  },
  {
   "cell_type": "code",
   "execution_count": 21,
   "id": "dc59c2e2-84b0-4b0d-8034-39a569beb218",
   "metadata": {},
   "outputs": [
    {
     "name": "stdout",
     "output_type": "stream",
     "text": [
      "['S', 'o', ' ', 't', 'h', 'e', 'r', 'i', 's', 'n', 'w', 'a', 'y', 'f', 'm', 'p', 'l', 'u', 'g', 'U', 'I', 'b', 'c', 'v', '.', 'G', 'd', ',', 'E', 'x', 'j', 'T', '4', '5', 'M', 'A', 'J', 'O', 'R', 'P', 'B', 'L', '!', 'z', 'N', 'W', 'q', 'H', '+', 'V', '\"', 'Y', 'D', 'F', 'k', \"'\", 'K', 'C', '/', '7', '3', '6', '8', '0', '2', '?', 'Z', '-', '1', ':', ')', '(', 'Q', '&', '$', '*', ';', 'X', '%', '9', '#', '[', ']', 'é', 'ê', '\\x96', '\\x85', 'å', '\\x97']\n"
     ]
    }
   ],
   "source": [
    "commentary = df['Review']\n",
    "list_of_char = []\n",
    "for comment in commentary:\n",
    "    for char in comment:\n",
    "        if char not in list_of_char:\n",
    "            list_of_char.append(char)\n",
    "print(list_of_char)"
   ]
  },
  {
   "cell_type": "code",
   "execution_count": 22,
   "id": "76802bd4-b27d-4fda-bcd2-12b3a35af813",
   "metadata": {},
   "outputs": [
    {
     "data": {
      "text/plain": [
       "89"
      ]
     },
     "execution_count": 22,
     "metadata": {},
     "output_type": "execute_result"
    }
   ],
   "source": [
    "len(list_of_char)"
   ]
  },
  {
   "cell_type": "markdown",
   "id": "a1f9d2e6-ba50-476a-801e-fd57c549a351",
   "metadata": {},
   "source": [
    "**Emojis and Emoticons**"
   ]
  },
  {
   "cell_type": "code",
   "execution_count": 23,
   "id": "58a0d59a-91cb-4081-8aad-499924f8b706",
   "metadata": {},
   "outputs": [
    {
     "data": {
      "text/plain": [
       "False    2983\n",
       "Name: emoji, dtype: int64"
      ]
     },
     "execution_count": 23,
     "metadata": {},
     "output_type": "execute_result"
    }
   ],
   "source": [
    "# Check for emojis\n",
    "#https://github.com/KierraDangerfield/Airline-Sentiment-Analysis/blob/main/Notebooks/2%20Sentiment%20Analysis%20EDA.ipynb\n",
    "def checkEmoji(text):\n",
    "    has_emoji = bool(emoji.get_emoji_regexp().search(text))\n",
    "    return has_emoji\n",
    "    \n",
    "df[\"emoji\"] = df['Review'].apply(lambda x: checkEmoji(x))\n",
    "\n",
    "df['emoji'].value_counts()"
   ]
  },
  {
   "cell_type": "code",
   "execution_count": 24,
   "id": "9b418838-be7e-4768-9e2f-4ca0cea4762b",
   "metadata": {},
   "outputs": [],
   "source": [
    "#check for emoticons (Shah,2021)\n",
    "def check_emoticons(text):\n",
    "    emot_obj = emot.core.emot()\n",
    "    emote = emot_obj.emoticons(text)\n",
    "    emote = emote.get('flag')\n",
    "    return emote\n",
    "\n",
    "df[\"emote\"] = df[\"Review\"].apply(lambda x: check_emoticons(x))"
   ]
  },
  {
   "cell_type": "code",
   "execution_count": 25,
   "id": "6dcae051-3564-46cd-83d7-bca522229aca",
   "metadata": {
    "tags": []
   },
   "outputs": [
    {
     "data": {
      "text/html": [
       "<div>\n",
       "<style scoped>\n",
       "    .dataframe tbody tr th:only-of-type {\n",
       "        vertical-align: middle;\n",
       "    }\n",
       "\n",
       "    .dataframe tbody tr th {\n",
       "        vertical-align: top;\n",
       "    }\n",
       "\n",
       "    .dataframe thead th {\n",
       "        text-align: right;\n",
       "    }\n",
       "</style>\n",
       "<table border=\"1\" class=\"dataframe\">\n",
       "  <thead>\n",
       "    <tr style=\"text-align: right;\">\n",
       "      <th></th>\n",
       "      <th>Review</th>\n",
       "      <th>Score</th>\n",
       "      <th>Source</th>\n",
       "      <th>Length</th>\n",
       "      <th>Words</th>\n",
       "      <th>emoji</th>\n",
       "      <th>emote</th>\n",
       "    </tr>\n",
       "  </thead>\n",
       "  <tbody>\n",
       "    <tr>\n",
       "      <th>76</th>\n",
       "      <td>Do Not Buy for D807...wrongly advertised for D807.</td>\n",
       "      <td>0</td>\n",
       "      <td>amazon</td>\n",
       "      <td>50</td>\n",
       "      <td>8</td>\n",
       "      <td>False</td>\n",
       "      <td>True</td>\n",
       "    </tr>\n",
       "    <tr>\n",
       "      <th>386</th>\n",
       "      <td>The best phone in market :).</td>\n",
       "      <td>1</td>\n",
       "      <td>amazon</td>\n",
       "      <td>28</td>\n",
       "      <td>6</td>\n",
       "      <td>False</td>\n",
       "      <td>True</td>\n",
       "    </tr>\n",
       "    <tr>\n",
       "      <th>967</th>\n",
       "      <td>:-)Oh, the charger seems to work fine.</td>\n",
       "      <td>1</td>\n",
       "      <td>amazon</td>\n",
       "      <td>38</td>\n",
       "      <td>7</td>\n",
       "      <td>False</td>\n",
       "      <td>True</td>\n",
       "    </tr>\n",
       "    <tr>\n",
       "      <th>1197</th>\n",
       "      <td>The WORST EXPERIENCE EVER.</td>\n",
       "      <td>0</td>\n",
       "      <td>yelp</td>\n",
       "      <td>26</td>\n",
       "      <td>4</td>\n",
       "      <td>False</td>\n",
       "      <td>True</td>\n",
       "    </tr>\n",
       "    <tr>\n",
       "      <th>1603</th>\n",
       "      <td>Sorry, I will not be getting food from here anytime soon :(</td>\n",
       "      <td>0</td>\n",
       "      <td>yelp</td>\n",
       "      <td>59</td>\n",
       "      <td>12</td>\n",
       "      <td>False</td>\n",
       "      <td>True</td>\n",
       "    </tr>\n",
       "    <tr>\n",
       "      <th>1713</th>\n",
       "      <td>Special thanks to Dylan T. for the recommendation on what to order :) All yummy for my tummy.</td>\n",
       "      <td>1</td>\n",
       "      <td>yelp</td>\n",
       "      <td>93</td>\n",
       "      <td>18</td>\n",
       "      <td>False</td>\n",
       "      <td>True</td>\n",
       "    </tr>\n",
       "    <tr>\n",
       "      <th>2362</th>\n",
       "      <td>I really loved the story line and the poler bear was kinda cute.But if anyone has a question about Fort Steele, just ask away:)</td>\n",
       "      <td>1</td>\n",
       "      <td>imdb</td>\n",
       "      <td>127</td>\n",
       "      <td>24</td>\n",
       "      <td>False</td>\n",
       "      <td>True</td>\n",
       "    </tr>\n",
       "    <tr>\n",
       "      <th>2406</th>\n",
       "      <td>This movie is excellent!Angel is beautiful and Scamp is adorable!His little yelps when hes scared,and the funniest parts are when:Scamp is caught under the curtain and when Angel and Scamp are sin...</td>\n",
       "      <td>1</td>\n",
       "      <td>imdb</td>\n",
       "      <td>379</td>\n",
       "      <td>62</td>\n",
       "      <td>False</td>\n",
       "      <td>True</td>\n",
       "    </tr>\n",
       "    <tr>\n",
       "      <th>2504</th>\n",
       "      <td>Final Word: This Show is a real torture!!</td>\n",
       "      <td>0</td>\n",
       "      <td>imdb</td>\n",
       "      <td>41</td>\n",
       "      <td>8</td>\n",
       "      <td>False</td>\n",
       "      <td>True</td>\n",
       "    </tr>\n",
       "    <tr>\n",
       "      <th>2969</th>\n",
       "      <td>;) Recommend with confidence!</td>\n",
       "      <td>1</td>\n",
       "      <td>imdb</td>\n",
       "      <td>29</td>\n",
       "      <td>4</td>\n",
       "      <td>False</td>\n",
       "      <td>True</td>\n",
       "    </tr>\n",
       "    <tr>\n",
       "      <th>2972</th>\n",
       "      <td>:) Anyway, the plot flowed smoothly and the male-bonding scenes were a hoot.</td>\n",
       "      <td>1</td>\n",
       "      <td>imdb</td>\n",
       "      <td>76</td>\n",
       "      <td>13</td>\n",
       "      <td>False</td>\n",
       "      <td>True</td>\n",
       "    </tr>\n",
       "  </tbody>\n",
       "</table>\n",
       "</div>"
      ],
      "text/plain": [
       "                                                                                                                                                                                                       Review  \\\n",
       "76                                                                                                                                                         Do Not Buy for D807...wrongly advertised for D807.   \n",
       "386                                                                                                                                                                              The best phone in market :).   \n",
       "967                                                                                                                                                                    :-)Oh, the charger seems to work fine.   \n",
       "1197                                                                                                                                                                               The WORST EXPERIENCE EVER.   \n",
       "1603                                                                                                                                              Sorry, I will not be getting food from here anytime soon :(   \n",
       "1713                                                                                                            Special thanks to Dylan T. for the recommendation on what to order :) All yummy for my tummy.   \n",
       "2362                                                                          I really loved the story line and the poler bear was kinda cute.But if anyone has a question about Fort Steele, just ask away:)   \n",
       "2406  This movie is excellent!Angel is beautiful and Scamp is adorable!His little yelps when hes scared,and the funniest parts are when:Scamp is caught under the curtain and when Angel and Scamp are sin...   \n",
       "2504                                                                                                                                                                Final Word: This Show is a real torture!!   \n",
       "2969                                                                                                                                                                            ;) Recommend with confidence!   \n",
       "2972                                                                                                                             :) Anyway, the plot flowed smoothly and the male-bonding scenes were a hoot.   \n",
       "\n",
       "      Score  Source  Length  Words  emoji  emote  \n",
       "76        0  amazon      50      8  False   True  \n",
       "386       1  amazon      28      6  False   True  \n",
       "967       1  amazon      38      7  False   True  \n",
       "1197      0    yelp      26      4  False   True  \n",
       "1603      0    yelp      59     12  False   True  \n",
       "1713      1    yelp      93     18  False   True  \n",
       "2362      1    imdb     127     24  False   True  \n",
       "2406      1    imdb     379     62  False   True  \n",
       "2504      0    imdb      41      8  False   True  \n",
       "2969      1    imdb      29      4  False   True  \n",
       "2972      1    imdb      76     13  False   True  "
      ]
     },
     "execution_count": 25,
     "metadata": {},
     "output_type": "execute_result"
    }
   ],
   "source": [
    "# Reviews with emoticons(with 4 false alarms)\n",
    "df_emote = df[df['emote']== True]\n",
    "df_emote"
   ]
  },
  {
   "cell_type": "markdown",
   "id": "479a512b-177e-469b-8263-6b08a3753d70",
   "metadata": {},
   "source": [
    "**Reviews with numeric ratings**"
   ]
  },
  {
   "cell_type": "code",
   "execution_count": 26,
   "id": "d622543b-165c-4363-b9b6-e0f35c7220ac",
   "metadata": {},
   "outputs": [],
   "source": [
    "vectorizer = CountVectorizer()\n",
    "\n",
    "matrix = vectorizer.fit_transform(df.Review)\n",
    "counts = pd.DataFrame(matrix.toarray(),\n",
    "                      columns=vectorizer.get_feature_names())"
   ]
  },
  {
   "cell_type": "code",
   "execution_count": 27,
   "id": "7a2156d6-0010-4a4f-9e07-8140e357b372",
   "metadata": {
    "tags": []
   },
   "outputs": [
    {
     "data": {
      "text/html": [
       "<div>\n",
       "<style scoped>\n",
       "    .dataframe tbody tr th:only-of-type {\n",
       "        vertical-align: middle;\n",
       "    }\n",
       "\n",
       "    .dataframe tbody tr th {\n",
       "        vertical-align: top;\n",
       "    }\n",
       "\n",
       "    .dataframe thead th {\n",
       "        text-align: right;\n",
       "    }\n",
       "</style>\n",
       "<table border=\"1\" class=\"dataframe\">\n",
       "  <thead>\n",
       "    <tr style=\"text-align: right;\">\n",
       "      <th></th>\n",
       "      <th>Review</th>\n",
       "      <th>Score</th>\n",
       "      <th>Source</th>\n",
       "      <th>Length</th>\n",
       "      <th>Words</th>\n",
       "      <th>emoji</th>\n",
       "      <th>emote</th>\n",
       "      <th>ten</th>\n",
       "    </tr>\n",
       "  </thead>\n",
       "  <tbody>\n",
       "    <tr>\n",
       "      <th>0</th>\n",
       "      <td>So there is no way for me to plug it in here in the US unless I go by a converter.</td>\n",
       "      <td>0</td>\n",
       "      <td>amazon</td>\n",
       "      <td>82</td>\n",
       "      <td>21</td>\n",
       "      <td>False</td>\n",
       "      <td>False</td>\n",
       "      <td>0</td>\n",
       "    </tr>\n",
       "    <tr>\n",
       "      <th>1</th>\n",
       "      <td>Good case, Excellent value.</td>\n",
       "      <td>1</td>\n",
       "      <td>amazon</td>\n",
       "      <td>27</td>\n",
       "      <td>4</td>\n",
       "      <td>False</td>\n",
       "      <td>False</td>\n",
       "      <td>0</td>\n",
       "    </tr>\n",
       "    <tr>\n",
       "      <th>2</th>\n",
       "      <td>Great for the jawbone.</td>\n",
       "      <td>1</td>\n",
       "      <td>amazon</td>\n",
       "      <td>22</td>\n",
       "      <td>4</td>\n",
       "      <td>False</td>\n",
       "      <td>False</td>\n",
       "      <td>0</td>\n",
       "    </tr>\n",
       "    <tr>\n",
       "      <th>3</th>\n",
       "      <td>Tied to charger for conversations lasting more than 45 minutes.MAJOR PROBLEMS!!</td>\n",
       "      <td>0</td>\n",
       "      <td>amazon</td>\n",
       "      <td>79</td>\n",
       "      <td>11</td>\n",
       "      <td>False</td>\n",
       "      <td>False</td>\n",
       "      <td>0</td>\n",
       "    </tr>\n",
       "    <tr>\n",
       "      <th>4</th>\n",
       "      <td>The mic is great.</td>\n",
       "      <td>1</td>\n",
       "      <td>amazon</td>\n",
       "      <td>17</td>\n",
       "      <td>4</td>\n",
       "      <td>False</td>\n",
       "      <td>False</td>\n",
       "      <td>0</td>\n",
       "    </tr>\n",
       "  </tbody>\n",
       "</table>\n",
       "</div>"
      ],
      "text/plain": [
       "                                                                               Review  \\\n",
       "0  So there is no way for me to plug it in here in the US unless I go by a converter.   \n",
       "1                                                         Good case, Excellent value.   \n",
       "2                                                              Great for the jawbone.   \n",
       "3     Tied to charger for conversations lasting more than 45 minutes.MAJOR PROBLEMS!!   \n",
       "4                                                                   The mic is great.   \n",
       "\n",
       "   Score  Source  Length  Words  emoji  emote  ten  \n",
       "0      0  amazon      82     21  False  False    0  \n",
       "1      1  amazon      27      4  False  False    0  \n",
       "2      1  amazon      22      4  False  False    0  \n",
       "3      0  amazon      79     11  False  False    0  \n",
       "4      1  amazon      17      4  False  False    0  "
      ]
     },
     "execution_count": 27,
     "metadata": {},
     "output_type": "execute_result"
    }
   ],
   "source": [
    "df['ten']= counts['10']\n",
    "df.head()"
   ]
  },
  {
   "cell_type": "code",
   "execution_count": 28,
   "id": "7cf7a1b7-fdde-4858-89c8-c9e635af87e3",
   "metadata": {
    "tags": []
   },
   "outputs": [
    {
     "data": {
      "text/html": [
       "<div>\n",
       "<style scoped>\n",
       "    .dataframe tbody tr th:only-of-type {\n",
       "        vertical-align: middle;\n",
       "    }\n",
       "\n",
       "    .dataframe tbody tr th {\n",
       "        vertical-align: top;\n",
       "    }\n",
       "\n",
       "    .dataframe thead th {\n",
       "        text-align: right;\n",
       "    }\n",
       "</style>\n",
       "<table border=\"1\" class=\"dataframe\">\n",
       "  <thead>\n",
       "    <tr style=\"text-align: right;\">\n",
       "      <th></th>\n",
       "      <th>Review</th>\n",
       "      <th>Score</th>\n",
       "      <th>Source</th>\n",
       "      <th>Length</th>\n",
       "      <th>Words</th>\n",
       "      <th>emoji</th>\n",
       "      <th>emote</th>\n",
       "      <th>ten</th>\n",
       "    </tr>\n",
       "  </thead>\n",
       "  <tbody>\n",
       "    <tr>\n",
       "      <th>184</th>\n",
       "      <td>I recently had problems where I could not stay connected for more than 10 minutes before being disconnected.</td>\n",
       "      <td>0</td>\n",
       "      <td>amazon</td>\n",
       "      <td>108</td>\n",
       "      <td>18</td>\n",
       "      <td>False</td>\n",
       "      <td>False</td>\n",
       "      <td>1</td>\n",
       "    </tr>\n",
       "    <tr>\n",
       "      <th>442</th>\n",
       "      <td>I would recommend purchasing the Jabra JX-10 series 2 which works flawlessly with my Moto Q, go figure.</td>\n",
       "      <td>1</td>\n",
       "      <td>amazon</td>\n",
       "      <td>103</td>\n",
       "      <td>18</td>\n",
       "      <td>False</td>\n",
       "      <td>False</td>\n",
       "      <td>1</td>\n",
       "    </tr>\n",
       "    <tr>\n",
       "      <th>901</th>\n",
       "      <td>So I bought about 10 of these and saved alot of money.</td>\n",
       "      <td>1</td>\n",
       "      <td>amazon</td>\n",
       "      <td>54</td>\n",
       "      <td>12</td>\n",
       "      <td>False</td>\n",
       "      <td>False</td>\n",
       "      <td>1</td>\n",
       "    </tr>\n",
       "    <tr>\n",
       "      <th>928</th>\n",
       "      <td>Logitech Bluetooth Headset is a 10!.</td>\n",
       "      <td>1</td>\n",
       "      <td>amazon</td>\n",
       "      <td>36</td>\n",
       "      <td>6</td>\n",
       "      <td>False</td>\n",
       "      <td>False</td>\n",
       "      <td>1</td>\n",
       "    </tr>\n",
       "    <tr>\n",
       "      <th>1050</th>\n",
       "      <td>At least think to refill my water before I struggle to wave you over for 10 minutes.</td>\n",
       "      <td>0</td>\n",
       "      <td>yelp</td>\n",
       "      <td>84</td>\n",
       "      <td>17</td>\n",
       "      <td>False</td>\n",
       "      <td>False</td>\n",
       "      <td>1</td>\n",
       "    </tr>\n",
       "    <tr>\n",
       "      <th>1201</th>\n",
       "      <td>For about 10 minutes, we we're waiting for her salad when we realized that it wasn't coming any time soon.</td>\n",
       "      <td>0</td>\n",
       "      <td>yelp</td>\n",
       "      <td>106</td>\n",
       "      <td>20</td>\n",
       "      <td>False</td>\n",
       "      <td>False</td>\n",
       "      <td>1</td>\n",
       "    </tr>\n",
       "    <tr>\n",
       "      <th>1369</th>\n",
       "      <td>The staff are now not as friendly, the wait times for being served are horrible, no one even says hi for the first 10 minutes.</td>\n",
       "      <td>0</td>\n",
       "      <td>yelp</td>\n",
       "      <td>126</td>\n",
       "      <td>25</td>\n",
       "      <td>False</td>\n",
       "      <td>False</td>\n",
       "      <td>1</td>\n",
       "    </tr>\n",
       "    <tr>\n",
       "      <th>1413</th>\n",
       "      <td>We've tried to like this place but after 10+ times I think we're done with them.</td>\n",
       "      <td>0</td>\n",
       "      <td>yelp</td>\n",
       "      <td>80</td>\n",
       "      <td>16</td>\n",
       "      <td>False</td>\n",
       "      <td>False</td>\n",
       "      <td>1</td>\n",
       "    </tr>\n",
       "    <tr>\n",
       "      <th>1423</th>\n",
       "      <td>Ordered an appetizer and took 40 minutes and then the pizza another 10 minutes.</td>\n",
       "      <td>0</td>\n",
       "      <td>yelp</td>\n",
       "      <td>79</td>\n",
       "      <td>14</td>\n",
       "      <td>False</td>\n",
       "      <td>False</td>\n",
       "      <td>1</td>\n",
       "    </tr>\n",
       "    <tr>\n",
       "      <th>2047</th>\n",
       "      <td>All in all I give this one a resounding 9 out of 10.</td>\n",
       "      <td>1</td>\n",
       "      <td>imdb</td>\n",
       "      <td>52</td>\n",
       "      <td>13</td>\n",
       "      <td>False</td>\n",
       "      <td>False</td>\n",
       "      <td>1</td>\n",
       "    </tr>\n",
       "    <tr>\n",
       "      <th>2067</th>\n",
       "      <td>This if the first movie I've given a 10 to in years.</td>\n",
       "      <td>1</td>\n",
       "      <td>imdb</td>\n",
       "      <td>52</td>\n",
       "      <td>12</td>\n",
       "      <td>False</td>\n",
       "      <td>False</td>\n",
       "      <td>1</td>\n",
       "    </tr>\n",
       "    <tr>\n",
       "      <th>2072</th>\n",
       "      <td>I gave it a 10</td>\n",
       "      <td>1</td>\n",
       "      <td>imdb</td>\n",
       "      <td>14</td>\n",
       "      <td>5</td>\n",
       "      <td>False</td>\n",
       "      <td>False</td>\n",
       "      <td>1</td>\n",
       "    </tr>\n",
       "    <tr>\n",
       "      <th>2111</th>\n",
       "      <td>10/10</td>\n",
       "      <td>1</td>\n",
       "      <td>imdb</td>\n",
       "      <td>5</td>\n",
       "      <td>1</td>\n",
       "      <td>False</td>\n",
       "      <td>False</td>\n",
       "      <td>2</td>\n",
       "    </tr>\n",
       "    <tr>\n",
       "      <th>2277</th>\n",
       "      <td>Rating: 1 out of 10.</td>\n",
       "      <td>0</td>\n",
       "      <td>imdb</td>\n",
       "      <td>20</td>\n",
       "      <td>5</td>\n",
       "      <td>False</td>\n",
       "      <td>False</td>\n",
       "      <td>1</td>\n",
       "    </tr>\n",
       "    <tr>\n",
       "      <th>2287</th>\n",
       "      <td>10 out of 10 for both the movie and trilogy.</td>\n",
       "      <td>1</td>\n",
       "      <td>imdb</td>\n",
       "      <td>44</td>\n",
       "      <td>10</td>\n",
       "      <td>False</td>\n",
       "      <td>False</td>\n",
       "      <td>2</td>\n",
       "    </tr>\n",
       "    <tr>\n",
       "      <th>2316</th>\n",
       "      <td>The hockey scenes are terrible, defensemen playing like they're 5 years old, goalies diving at shots that are 10 feet wide of the net, etc.</td>\n",
       "      <td>0</td>\n",
       "      <td>imdb</td>\n",
       "      <td>139</td>\n",
       "      <td>25</td>\n",
       "      <td>False</td>\n",
       "      <td>False</td>\n",
       "      <td>1</td>\n",
       "    </tr>\n",
       "    <tr>\n",
       "      <th>2339</th>\n",
       "      <td>I would give this television series a 10 plus if i could.</td>\n",
       "      <td>1</td>\n",
       "      <td>imdb</td>\n",
       "      <td>57</td>\n",
       "      <td>12</td>\n",
       "      <td>False</td>\n",
       "      <td>False</td>\n",
       "      <td>1</td>\n",
       "    </tr>\n",
       "    <tr>\n",
       "      <th>2342</th>\n",
       "      <td>Now you know why I gave it a 10+!</td>\n",
       "      <td>1</td>\n",
       "      <td>imdb</td>\n",
       "      <td>33</td>\n",
       "      <td>9</td>\n",
       "      <td>False</td>\n",
       "      <td>False</td>\n",
       "      <td>1</td>\n",
       "    </tr>\n",
       "    <tr>\n",
       "      <th>2419</th>\n",
       "      <td>1/10 - and only because there is no setting for 0/10.</td>\n",
       "      <td>0</td>\n",
       "      <td>imdb</td>\n",
       "      <td>53</td>\n",
       "      <td>11</td>\n",
       "      <td>False</td>\n",
       "      <td>False</td>\n",
       "      <td>2</td>\n",
       "    </tr>\n",
       "    <tr>\n",
       "      <th>2423</th>\n",
       "      <td>Still, it was the SETS that got a big \"10\" on my \"oy-vey\" scale.</td>\n",
       "      <td>1</td>\n",
       "      <td>imdb</td>\n",
       "      <td>64</td>\n",
       "      <td>14</td>\n",
       "      <td>False</td>\n",
       "      <td>False</td>\n",
       "      <td>1</td>\n",
       "    </tr>\n",
       "    <tr>\n",
       "      <th>2433</th>\n",
       "      <td>My 8/10 score is mostly for the plot.</td>\n",
       "      <td>1</td>\n",
       "      <td>imdb</td>\n",
       "      <td>37</td>\n",
       "      <td>8</td>\n",
       "      <td>False</td>\n",
       "      <td>False</td>\n",
       "      <td>1</td>\n",
       "    </tr>\n",
       "    <tr>\n",
       "      <th>2443</th>\n",
       "      <td>This gets a 1 out of 10, simply because there's nothing lower.</td>\n",
       "      <td>0</td>\n",
       "      <td>imdb</td>\n",
       "      <td>62</td>\n",
       "      <td>12</td>\n",
       "      <td>False</td>\n",
       "      <td>False</td>\n",
       "      <td>1</td>\n",
       "    </tr>\n",
       "    <tr>\n",
       "      <th>2471</th>\n",
       "      <td>Overall I rate this movie a 10 out of a 1-10 scale.</td>\n",
       "      <td>1</td>\n",
       "      <td>imdb</td>\n",
       "      <td>51</td>\n",
       "      <td>12</td>\n",
       "      <td>False</td>\n",
       "      <td>False</td>\n",
       "      <td>2</td>\n",
       "    </tr>\n",
       "    <tr>\n",
       "      <th>2507</th>\n",
       "      <td>Rating: 0/10 (Grade: Z) Note: The Show Is So Bad That Even Mother Of The Cast Pull Her Daughter Out Of The Show.</td>\n",
       "      <td>0</td>\n",
       "      <td>imdb</td>\n",
       "      <td>112</td>\n",
       "      <td>23</td>\n",
       "      <td>False</td>\n",
       "      <td>False</td>\n",
       "      <td>1</td>\n",
       "    </tr>\n",
       "    <tr>\n",
       "      <th>2600</th>\n",
       "      <td>My rating: just 3 out of 10.</td>\n",
       "      <td>0</td>\n",
       "      <td>imdb</td>\n",
       "      <td>28</td>\n",
       "      <td>7</td>\n",
       "      <td>False</td>\n",
       "      <td>False</td>\n",
       "      <td>1</td>\n",
       "    </tr>\n",
       "    <tr>\n",
       "      <th>2616</th>\n",
       "      <td>I'll give this film 10 out of 10!</td>\n",
       "      <td>1</td>\n",
       "      <td>imdb</td>\n",
       "      <td>33</td>\n",
       "      <td>8</td>\n",
       "      <td>False</td>\n",
       "      <td>False</td>\n",
       "      <td>2</td>\n",
       "    </tr>\n",
       "    <tr>\n",
       "      <th>2636</th>\n",
       "      <td>Don't be afraid of subtitles........ its worth a little aversion therapy 10/10</td>\n",
       "      <td>1</td>\n",
       "      <td>imdb</td>\n",
       "      <td>78</td>\n",
       "      <td>12</td>\n",
       "      <td>False</td>\n",
       "      <td>False</td>\n",
       "      <td>2</td>\n",
       "    </tr>\n",
       "    <tr>\n",
       "      <th>2671</th>\n",
       "      <td>10 out of 10 stars.</td>\n",
       "      <td>1</td>\n",
       "      <td>imdb</td>\n",
       "      <td>19</td>\n",
       "      <td>5</td>\n",
       "      <td>False</td>\n",
       "      <td>False</td>\n",
       "      <td>2</td>\n",
       "    </tr>\n",
       "    <tr>\n",
       "      <th>2913</th>\n",
       "      <td>I rate this movie 9/10.</td>\n",
       "      <td>1</td>\n",
       "      <td>imdb</td>\n",
       "      <td>23</td>\n",
       "      <td>5</td>\n",
       "      <td>False</td>\n",
       "      <td>False</td>\n",
       "      <td>1</td>\n",
       "    </tr>\n",
       "  </tbody>\n",
       "</table>\n",
       "</div>"
      ],
      "text/plain": [
       "                                                                                                                                           Review  \\\n",
       "184                                  I recently had problems where I could not stay connected for more than 10 minutes before being disconnected.   \n",
       "442                                       I would recommend purchasing the Jabra JX-10 series 2 which works flawlessly with my Moto Q, go figure.   \n",
       "901                                                                                        So I bought about 10 of these and saved alot of money.   \n",
       "928                                                                                                          Logitech Bluetooth Headset is a 10!.   \n",
       "1050                                                         At least think to refill my water before I struggle to wave you over for 10 minutes.   \n",
       "1201                                   For about 10 minutes, we we're waiting for her salad when we realized that it wasn't coming any time soon.   \n",
       "1369               The staff are now not as friendly, the wait times for being served are horrible, no one even says hi for the first 10 minutes.   \n",
       "1413                                                             We've tried to like this place but after 10+ times I think we're done with them.   \n",
       "1423                                                              Ordered an appetizer and took 40 minutes and then the pizza another 10 minutes.   \n",
       "2047                                                                                         All in all I give this one a resounding 9 out of 10.   \n",
       "2067                                                                                         This if the first movie I've given a 10 to in years.   \n",
       "2072                                                                                                                               I gave it a 10   \n",
       "2111                                                                                                                                        10/10   \n",
       "2277                                                                                                                         Rating: 1 out of 10.   \n",
       "2287                                                                                                 10 out of 10 for both the movie and trilogy.   \n",
       "2316  The hockey scenes are terrible, defensemen playing like they're 5 years old, goalies diving at shots that are 10 feet wide of the net, etc.   \n",
       "2339                                                                                    I would give this television series a 10 plus if i could.   \n",
       "2342                                                                                                            Now you know why I gave it a 10+!   \n",
       "2419                                                                                        1/10 - and only because there is no setting for 0/10.   \n",
       "2423                                                                             Still, it was the SETS that got a big \"10\" on my \"oy-vey\" scale.   \n",
       "2433                                                                                                        My 8/10 score is mostly for the plot.   \n",
       "2443                                                                               This gets a 1 out of 10, simply because there's nothing lower.   \n",
       "2471                                                                                          Overall I rate this movie a 10 out of a 1-10 scale.   \n",
       "2507                             Rating: 0/10 (Grade: Z) Note: The Show Is So Bad That Even Mother Of The Cast Pull Her Daughter Out Of The Show.   \n",
       "2600                                                                                                                 My rating: just 3 out of 10.   \n",
       "2616                                                                                                            I'll give this film 10 out of 10!   \n",
       "2636                                                               Don't be afraid of subtitles........ its worth a little aversion therapy 10/10   \n",
       "2671                                                                                                                          10 out of 10 stars.   \n",
       "2913                                                                                                                      I rate this movie 9/10.   \n",
       "\n",
       "      Score  Source  Length  Words  emoji  emote  ten  \n",
       "184       0  amazon     108     18  False  False    1  \n",
       "442       1  amazon     103     18  False  False    1  \n",
       "901       1  amazon      54     12  False  False    1  \n",
       "928       1  amazon      36      6  False  False    1  \n",
       "1050      0    yelp      84     17  False  False    1  \n",
       "1201      0    yelp     106     20  False  False    1  \n",
       "1369      0    yelp     126     25  False  False    1  \n",
       "1413      0    yelp      80     16  False  False    1  \n",
       "1423      0    yelp      79     14  False  False    1  \n",
       "2047      1    imdb      52     13  False  False    1  \n",
       "2067      1    imdb      52     12  False  False    1  \n",
       "2072      1    imdb      14      5  False  False    1  \n",
       "2111      1    imdb       5      1  False  False    2  \n",
       "2277      0    imdb      20      5  False  False    1  \n",
       "2287      1    imdb      44     10  False  False    2  \n",
       "2316      0    imdb     139     25  False  False    1  \n",
       "2339      1    imdb      57     12  False  False    1  \n",
       "2342      1    imdb      33      9  False  False    1  \n",
       "2419      0    imdb      53     11  False  False    2  \n",
       "2423      1    imdb      64     14  False  False    1  \n",
       "2433      1    imdb      37      8  False  False    1  \n",
       "2443      0    imdb      62     12  False  False    1  \n",
       "2471      1    imdb      51     12  False  False    2  \n",
       "2507      0    imdb     112     23  False  False    1  \n",
       "2600      0    imdb      28      7  False  False    1  \n",
       "2616      1    imdb      33      8  False  False    2  \n",
       "2636      1    imdb      78     12  False  False    2  \n",
       "2671      1    imdb      19      5  False  False    2  \n",
       "2913      1    imdb      23      5  False  False    1  "
      ]
     },
     "execution_count": 28,
     "metadata": {},
     "output_type": "execute_result"
    }
   ],
   "source": [
    "df[df['ten']>0]"
   ]
  },
  {
   "cell_type": "markdown",
   "id": "fb0957f0-d7b1-43ed-b08b-484231ce953f",
   "metadata": {},
   "source": [
    "#### B.  Summarize the data cleaning process by doing the following:"
   ]
  },
  {
   "cell_type": "markdown",
   "id": "5bc9ced0-5932-40c6-87f4-41247211bc89",
   "metadata": {},
   "source": [
    "##### B.1.  Perform exploratory data analysis on the chosen dataset, and include an explanation of each of the following elements:"
   ]
  },
  {
   "cell_type": "markdown",
   "id": "98f3f1b3-a95c-4cf0-8b70-854d3509d586",
   "metadata": {},
   "source": [
    "##### **•   presence of unusual characters (e.g., emojis, non-English characters, etc.)**"
   ]
  },
  {
   "cell_type": "markdown",
   "id": "1e7acf08-9d9a-4648-abb1-8ae59406d970",
   "metadata": {},
   "source": [
    "As we can see above, there are 89 different characters, including letters, numbers, punctuation, foreign letters,  Unicode hex character codes, and emoticons."
   ]
  },
  {
   "cell_type": "markdown",
   "id": "2a8181db-9630-419a-b214-c1bf63f9462b",
   "metadata": {},
   "source": [
    "##### **•   vocabulary size**"
   ]
  },
  {
   "cell_type": "code",
   "execution_count": 29,
   "id": "72e0f231-61ba-481e-96c2-fd0df69cb035",
   "metadata": {
    "tags": []
   },
   "outputs": [
    {
     "data": {
      "text/plain": [
       "5155"
      ]
     },
     "execution_count": 29,
     "metadata": {},
     "output_type": "execute_result"
    }
   ],
   "source": [
    "# Number of unique words\n",
    "review_words=counts.columns\n",
    "len(review_words)"
   ]
  },
  {
   "cell_type": "markdown",
   "id": "986a0e12-ceff-43df-b346-81f627298005",
   "metadata": {},
   "source": [
    "##### **•   proposed word embedding length**"
   ]
  },
  {
   "cell_type": "markdown",
   "id": "4a91adbf-d067-4e27-916b-fce7bb094fc0",
   "metadata": {},
   "source": [
    "Word embedded length formula has been suggested as the fourth root or the vocabulary size, but this is not absolute. Most sources recommend trial and error to see what value produces the best accuracy. (Goldman, 2022) By the formula, the proposed word embedding length would be 8 based on the uncleaned vocabulary size. For the final one, see the model details below."
   ]
  },
  {
   "cell_type": "code",
   "execution_count": 30,
   "id": "569b0e66-aec4-41b7-bbf1-61dfc8a22e3c",
   "metadata": {},
   "outputs": [
    {
     "data": {
      "text/plain": [
       "8"
      ]
     },
     "execution_count": 30,
     "metadata": {},
     "output_type": "execute_result"
    }
   ],
   "source": [
    "embedding_vector_length = int(round(np.sqrt(np.sqrt(len(review_words))), 0))\n",
    "embedding_vector_length"
   ]
  },
  {
   "cell_type": "markdown",
   "id": "bf448f28-1921-4fbc-b377-636cdbfa4286",
   "metadata": {},
   "source": [
    "##### **•   statistical justification for the chosen maximum sequence length**"
   ]
  },
  {
   "cell_type": "markdown",
   "id": "ff4a9db3-c41e-481f-96c9-6a0e4653180a",
   "metadata": {},
   "source": [
    "The maximum sequence length is equal to the review with the highest number of words in the data set. The max sequence length of the uncleaned data is listed below. This will be recalculated after cleaning."
   ]
  },
  {
   "cell_type": "code",
   "execution_count": 31,
   "id": "70d68688-4bbc-4023-bd11-932f88abd0c5",
   "metadata": {},
   "outputs": [
    {
     "name": "stdout",
     "output_type": "stream",
     "text": [
      "Maximum words per review:  71\n"
     ]
    }
   ],
   "source": [
    "print('Maximum words per review: ',  df.Words.max())"
   ]
  },
  {
   "cell_type": "code",
   "execution_count": 32,
   "id": "5cf3feb1-5af9-4217-97b1-cd92aed2eeda",
   "metadata": {
    "tags": []
   },
   "outputs": [],
   "source": [
    "back_up = df.copy(deep=True)"
   ]
  },
  {
   "cell_type": "markdown",
   "id": "cb186070-60ef-4328-a56a-1eac754e99b3",
   "metadata": {
    "tags": []
   },
   "source": [
    "##### 6. Clean data"
   ]
  },
  {
   "cell_type": "markdown",
   "id": "09d3eccb-eb6d-4ae2-8e2d-28a01a864e75",
   "metadata": {
    "tags": []
   },
   "source": [
    "##### Lower case, contractions, and non letters"
   ]
  },
  {
   "cell_type": "code",
   "execution_count": 33,
   "id": "ca7b5dba-f12e-4669-a66d-1f19a96a1de2",
   "metadata": {
    "tags": []
   },
   "outputs": [],
   "source": [
    "df[\"Review_cleaned\"] = df[\"Review\"].str.lower()"
   ]
  },
  {
   "cell_type": "code",
   "execution_count": 34,
   "id": "4807a4d8-25f5-460b-b181-62fce31c6721",
   "metadata": {},
   "outputs": [],
   "source": [
    "#https://analyticsindiamag.com/complete-tutorial-on-text-preprocessing-in-nlp/\n",
    "#Expand contractions\n",
    "def contraction_replace(text):\n",
    "    return contractions.fix(text)\n",
    "df[\"Review_cleaned\"] = df[\"Review_cleaned\"].apply(lambda x: contraction_replace(x))"
   ]
  },
  {
   "cell_type": "code",
   "execution_count": 35,
   "id": "1cbfb7ec-036d-41a9-bfed-2b20cc3943a7",
   "metadata": {},
   "outputs": [],
   "source": [
    "# Replace happy emoticons with words\n",
    "def replace_emote(text):\n",
    "    emote = re.sub(r\"(?:(\\:\\))|(\\:-\\)|(\\;\\))))\", \" happy \", text)\n",
    "        \n",
    "    return emote\n",
    "\n",
    "df[\"Review_cleaned\"] = df[\"Review_cleaned\"].apply(lambda x: replace_emote(x))"
   ]
  },
  {
   "cell_type": "code",
   "execution_count": 36,
   "id": "41c72cfe-dc81-4e9d-816a-faca507aafb0",
   "metadata": {},
   "outputs": [
    {
     "name": "stdout",
     "output_type": "stream",
     "text": [
      "The best phone in market :).\n",
      "the best phone in market  happy .\n"
     ]
    }
   ],
   "source": [
    "print(df['Review'][386])\n",
    "print(df['Review_cleaned'][386])"
   ]
  },
  {
   "cell_type": "code",
   "execution_count": 37,
   "id": "902ef256-31a3-49c0-9229-7c6951c7b123",
   "metadata": {
    "tags": []
   },
   "outputs": [],
   "source": [
    "# Replace sad emoticons with words\n",
    "def replace_emote(text):\n",
    "    emote = re.sub(r\"(?:(\\:\\())\", \" sad \", text)\n",
    "       \n",
    "    return emote\n",
    "\n",
    "df[\"Review_cleaned\"] = df[\"Review_cleaned\"].apply(lambda x: replace_emote(x))"
   ]
  },
  {
   "cell_type": "code",
   "execution_count": 38,
   "id": "13ebdf42-f52f-42f1-a251-4f95bcd23274",
   "metadata": {},
   "outputs": [
    {
     "name": "stdout",
     "output_type": "stream",
     "text": [
      "Sorry, I will not be getting food from here anytime soon :(\n",
      "sorry, i will not be getting food from here anytime soon  sad \n"
     ]
    }
   ],
   "source": [
    "print(df['Review'][1603])\n",
    "print(df['Review_cleaned'][1603])"
   ]
  },
  {
   "cell_type": "code",
   "execution_count": 39,
   "id": "a9da5ef3-8961-4ced-b145-cd3e7fa5090b",
   "metadata": {
    "tags": []
   },
   "outputs": [],
   "source": [
    "# Replace '10' with 'great' where it was a high review\n",
    "for i in (928, 2047, 2072, 2111, 2287, 2339, 2342, 2433, 2471, 2616, 2636, 2671, 2913):\n",
    "    df['Review_cleaned'][i]= re.sub(r\"(?:(10))\", \" great \", df['Review_cleaned'][i])"
   ]
  },
  {
   "cell_type": "code",
   "execution_count": 40,
   "id": "57fe191a-2f77-400f-8823-8d47baa8e6f9",
   "metadata": {},
   "outputs": [
    {
     "name": "stdout",
     "output_type": "stream",
     "text": [
      "Logitech Bluetooth Headset is a 10!.\n",
      "logitech bluetooth headset is a  great !.\n"
     ]
    }
   ],
   "source": [
    "print(df['Review'][928])\n",
    "print(df['Review_cleaned'][928])"
   ]
  },
  {
   "cell_type": "code",
   "execution_count": 41,
   "id": "e1969abe-4f32-4e32-89c8-876d86135104",
   "metadata": {},
   "outputs": [],
   "source": [
    "# Replace '10' with 'bad' where it was a bad review\n",
    "for i in (2277, 2419, 2443, 2507, 2600):\n",
    "    df['Review_cleaned'][i]= re.sub(r\"(?:(10))\", \" bad \", df['Review_cleaned'][i])"
   ]
  },
  {
   "cell_type": "code",
   "execution_count": 42,
   "id": "42072dce-9bb9-42d8-9d42-cae0617d03be",
   "metadata": {},
   "outputs": [
    {
     "name": "stdout",
     "output_type": "stream",
     "text": [
      "Rating: 1 out of 10.\n",
      "rating: 1 out of  bad .\n"
     ]
    }
   ],
   "source": [
    "print(df['Review'][2277])\n",
    "print(df['Review_cleaned'][2277])"
   ]
  },
  {
   "cell_type": "code",
   "execution_count": 43,
   "id": "dbf68b2f-467d-4dbe-bb2e-b025599c301b",
   "metadata": {},
   "outputs": [],
   "source": [
    "#https://medium.com/@kierradangerfield/airline-sentiment-analysis-6d4a0f557194\n",
    "\n",
    "## REMOVE NUMBERS ###\n",
    "df[\"Review_cleaned\"] = df[\"Review_cleaned\"].str.replace('\\d+', '', regex=True)\n",
    "\n",
    "### REMOVE PUNCTUATIONS ###\n",
    "def remove_punc(text):\n",
    "    words_wo_punct = re.sub(r\"[^a-z\\s]+\", \" \", text)\n",
    "    return words_wo_punct\n",
    "\n",
    "df[\"Review_cleaned\"] = df[\"Review_cleaned\"].apply(lambda x: remove_punc(x))\n",
    "\n",
    "### REMOVE WHITESPACE ###\n",
    "df[\"Review_cleaned\"] = df[\"Review_cleaned\"].str.strip()\n"
   ]
  },
  {
   "cell_type": "code",
   "execution_count": 44,
   "id": "6e1d3d5f-2fb1-47bc-b6c7-6070416b24f1",
   "metadata": {},
   "outputs": [
    {
     "name": "stdout",
     "output_type": "stream",
     "text": [
      "['s', 'o', ' ', 't', 'h', 'e', 'r', 'i', 'n', 'w', 'a', 'y', 'f', 'm', 'p', 'l', 'u', 'g', 'b', 'c', 'v', 'd', 'x', 'j', 'z', 'q', 'k', '\\x85']\n"
     ]
    }
   ],
   "source": [
    "# Check to make sure nothing but lowercase letters\n",
    "commentary = df['Review_cleaned']\n",
    "list_of_char = []\n",
    "for comment in commentary:\n",
    "    for char in comment:\n",
    "        if char not in list_of_char:\n",
    "            list_of_char.append(char)\n",
    "print(list_of_char)"
   ]
  },
  {
   "cell_type": "code",
   "execution_count": 45,
   "id": "2416763a-cbde-4bfa-8385-7a1d856ad512",
   "metadata": {},
   "outputs": [],
   "source": [
    "### REMOVE \\x85###\n",
    "def remove(text):\n",
    "    words_wo_punct = re.sub(r\"[\\x85]\", \" \", text)\n",
    "    return words_wo_punct\n",
    "\n",
    "df[\"Review_cleaned\"] = df[\"Review_cleaned\"].apply(lambda x: remove(x))"
   ]
  },
  {
   "cell_type": "code",
   "execution_count": 46,
   "id": "9530177d-e139-41dc-84dc-f51f7cb1ffd2",
   "metadata": {},
   "outputs": [
    {
     "name": "stdout",
     "output_type": "stream",
     "text": [
      "['s', 'o', ' ', 't', 'h', 'e', 'r', 'i', 'n', 'w', 'a', 'y', 'f', 'm', 'p', 'l', 'u', 'g', 'b', 'c', 'v', 'd', 'x', 'j', 'z', 'q', 'k']\n"
     ]
    }
   ],
   "source": [
    "# Check to make sure nothing but lowercase letters\n",
    "commentary = df['Review_cleaned']\n",
    "list_of_char = []\n",
    "for comment in commentary:\n",
    "    for char in comment:\n",
    "        if char not in list_of_char:\n",
    "            list_of_char.append(char)\n",
    "print(list_of_char)"
   ]
  },
  {
   "cell_type": "code",
   "execution_count": 47,
   "id": "6468521d-4c80-4311-9e11-ef2351ec8c3f",
   "metadata": {
    "tags": []
   },
   "outputs": [
    {
     "data": {
      "text/plain": [
       "27"
      ]
     },
     "execution_count": 47,
     "metadata": {},
     "output_type": "execute_result"
    }
   ],
   "source": [
    "len(list_of_char)"
   ]
  },
  {
   "cell_type": "markdown",
   "id": "4a28294a-8a30-4e59-90ce-c236b86ab92d",
   "metadata": {
    "tags": []
   },
   "source": [
    "##### Duplicate words"
   ]
  },
  {
   "cell_type": "code",
   "execution_count": 48,
   "id": "1f3f3e5e-15a0-4212-bc1c-f0c53ac4a82d",
   "metadata": {},
   "outputs": [],
   "source": [
    "# https://stackoverflow.com/questions/47316783/python-dataframe-remove-duplicate-words-in-the-same-cell-within-a-column-in-pyt\n",
    "## Remove duplicate words in a review\n",
    "df['Review_cleaned'] = (df['Review_cleaned'].str.split()\n",
    "                              .apply(lambda x: OrderedDict.fromkeys(x).keys())\n",
    "                              .str.join(' '))"
   ]
  },
  {
   "cell_type": "markdown",
   "id": "2f622d4f-60ca-4096-925c-bd5e020d73ed",
   "metadata": {
    "tags": []
   },
   "source": [
    "##### Stop Words"
   ]
  },
  {
   "cell_type": "code",
   "execution_count": 49,
   "id": "e13e1535-fecc-4e48-ac0a-63b99d45dd48",
   "metadata": {},
   "outputs": [
    {
     "name": "stderr",
     "output_type": "stream",
     "text": [
      "[nltk_data] Downloading package stopwords to\n",
      "[nltk_data]     C:\\Users\\jater\\AppData\\Roaming\\nltk_data...\n",
      "[nltk_data]   Package stopwords is already up-to-date!\n"
     ]
    },
    {
     "data": {
      "text/plain": [
       "True"
      ]
     },
     "execution_count": 49,
     "metadata": {},
     "output_type": "execute_result"
    }
   ],
   "source": [
    "nltk.download('stopwords')"
   ]
  },
  {
   "cell_type": "code",
   "execution_count": 50,
   "id": "a0001d1d-78f6-4f34-ae78-c1571d0040a3",
   "metadata": {
    "tags": []
   },
   "outputs": [],
   "source": [
    "#adapted from:https://towardsdatascience.com/text-pre-processing-stop-words-removal-using-different-libraries-f20bac19929a\n",
    "def stopword(text):\n",
    "    stop = stopwords.words('english')\n",
    "    words = [word for word in text.split() if word.lower() not in stop]\n",
    "    new_text = \" \".join(words)\n",
    "\n",
    "    return new_text\n",
    "df[\"Review_cleaned\"] = df[\"Review_cleaned\"].apply(lambda x: stopword(x))"
   ]
  },
  {
   "cell_type": "markdown",
   "id": "1d21dcfe-daba-43e1-8d33-af6ea25d3bfb",
   "metadata": {},
   "source": [
    "##### Single occurrence words"
   ]
  },
  {
   "cell_type": "code",
   "execution_count": 51,
   "id": "cfa526fb-fbb1-4b3b-829a-d840bf679354",
   "metadata": {},
   "outputs": [],
   "source": [
    "#https://towardsdatascience.com/exploratory-data-analysis-of-text-data-including-visualization-and-sentiment-analysis-e46dda3dd260\n",
    "def infrequent(text):\n",
    "    freq = pd.Series(' '.join(df['Review_cleaned']).split()).value_counts()\n",
    "    less_freq = list(freq[freq ==1].index)\n",
    "    words = [word for word in text.split() if word not in less_freq]\n",
    "    new_text = \" \".join(words)\n",
    "\n",
    "    return new_text\n",
    "df[\"Review_cleaned\"] = df[\"Review_cleaned\"].apply(lambda x: infrequent(x))        "
   ]
  },
  {
   "cell_type": "markdown",
   "id": "c3d68dd4-bbb4-47cf-acca-4be2813466c7",
   "metadata": {},
   "source": [
    "##### Word count"
   ]
  },
  {
   "cell_type": "code",
   "execution_count": 52,
   "id": "a69bd865-0a1f-4ba9-9cd2-cf5273dd4f38",
   "metadata": {
    "tags": []
   },
   "outputs": [],
   "source": [
    "# number of words and length\n",
    "df[\"Words_cleaned\"] = df[\"Review_cleaned\"].str.split().str.len()\n",
    "df[\"Length_cleaned\"] = df['Review_cleaned'].str.len()"
   ]
  },
  {
   "cell_type": "code",
   "execution_count": 53,
   "id": "794156c2-9ee7-4e4e-8332-d205e1b2632f",
   "metadata": {
    "tags": []
   },
   "outputs": [
    {
     "name": "stdout",
     "output_type": "stream",
     "text": [
      "Length_cleaned min:  0 , max:  164 , avg:  32.01\n",
      "Words_cleaned min:  0 , max:  22 , avg:  4.99\n"
     ]
    }
   ],
   "source": [
    "print('Length_cleaned min: ',df.Length_cleaned.min(),', max: ', df.Length_cleaned.max(),', avg: ', '{:.2f}'.format(df.Length_cleaned.mean()))\n",
    "print('Words_cleaned min: ',df.Words_cleaned.min(),', max: ', df.Words_cleaned.max(),', avg: ', '{:.2f}'.format(df.Words_cleaned.mean()))"
   ]
  },
  {
   "cell_type": "code",
   "execution_count": 54,
   "id": "d817092d-ef08-4a01-9db3-4f4b30405b6c",
   "metadata": {},
   "outputs": [
    {
     "data": {
      "text/plain": [
       "13"
      ]
     },
     "execution_count": 54,
     "metadata": {},
     "output_type": "execute_result"
    }
   ],
   "source": [
    "#Find rows with empty review\n",
    "empty = df[df['Length_cleaned']==0]\n",
    "len(empty)"
   ]
  },
  {
   "cell_type": "code",
   "execution_count": 55,
   "id": "30e3325f-dc4e-4ccd-a907-7cccc364a43e",
   "metadata": {
    "tags": []
   },
   "outputs": [],
   "source": [
    "# Drop empty reviews\n",
    "df = df[df['Length_cleaned']!=0]"
   ]
  },
  {
   "cell_type": "code",
   "execution_count": 56,
   "id": "fcf91f7c-d0a0-4207-adfe-458eb43f5b3c",
   "metadata": {},
   "outputs": [],
   "source": [
    "vectorizer = CountVectorizer()\n",
    "matrix = vectorizer.fit_transform(df.Review_cleaned)\n",
    "counts = pd.DataFrame(matrix.toarray(),\n",
    "                      columns=vectorizer.get_feature_names())"
   ]
  },
  {
   "cell_type": "code",
   "execution_count": 57,
   "id": "0105859c-a135-4bc6-88c2-b1a0360f92e9",
   "metadata": {
    "tags": []
   },
   "outputs": [
    {
     "data": {
      "text/plain": [
       "2053"
      ]
     },
     "execution_count": 57,
     "metadata": {},
     "output_type": "execute_result"
    }
   ],
   "source": [
    "len(counts.columns)"
   ]
  },
  {
   "cell_type": "markdown",
   "id": "eba8a5af-4119-487e-b703-4639a0bcf513",
   "metadata": {},
   "source": [
    "##### B.2.  Describe the goals of the tokenization process, including any code generated and packages that are used to normalize text during the tokenization process."
   ]
  },
  {
   "cell_type": "markdown",
   "id": "b198386e-b9ee-43aa-85e1-e414aec38bbb",
   "metadata": {
    "tags": []
   },
   "source": [
    "The goal of the tokenization process is to break down each review into individual words and assign a unique number to each word. The numerically encoded version of the review is then used by the modeling process. The Keras Tokenizer from keras.preprocessing.text was utilized for tokenization with the fit_on_texts method. It does the initial assignment of a number to the words. The method has 4 useful attributes: word_counts- dictionary of words with their count, word_docs- dictionary of words with the number of documents it appears in, word_index- dictionary of words with the unique number assigned to it, and document_count- total number of documents the tokenizer fitted. The texts_to_sequences method was then applied to the reviews to transform the text into numbers. (Sharma, 2021) The reviews were cleaned prior to tokenization, so no further normalization was done at the time of tokenization."
   ]
  },
  {
   "cell_type": "code",
   "execution_count": 58,
   "id": "7b599f41-f013-40aa-b159-3fd6ba7c0a37",
   "metadata": {},
   "outputs": [],
   "source": [
    "review = df.Review_cleaned.values\n",
    "tokenizer = Tokenizer(num_words=2053)\n",
    "tokenizer.fit_on_texts(review)\n",
    "vocab_size = len(tokenizer.word_index) + 1\n",
    "encoded_docs = tokenizer.texts_to_sequences(review)"
   ]
  },
  {
   "cell_type": "code",
   "execution_count": 59,
   "id": "51cb19eb-30b1-471a-ae42-87af1f54a198",
   "metadata": {},
   "outputs": [
    {
     "data": {
      "text/plain": [
       "[('way', 44), ('plug', 12), ('us', 28), ('unless', 7)]"
      ]
     },
     "execution_count": 59,
     "metadata": {},
     "output_type": "execute_result"
    }
   ],
   "source": [
    "list(tokenizer.word_counts.items())[:4]"
   ]
  },
  {
   "cell_type": "code",
   "execution_count": 60,
   "id": "8b5ef1f3-a3d7-419a-b1b2-90ebfde6ba00",
   "metadata": {},
   "outputs": [
    {
     "data": {
      "text/plain": [
       "[('unless', 7), ('plug', 12), ('go', 64), ('way', 44)]"
      ]
     },
     "execution_count": 60,
     "metadata": {},
     "output_type": "execute_result"
    }
   ],
   "source": [
    "list(tokenizer.word_docs.items())[:4]"
   ]
  },
  {
   "cell_type": "code",
   "execution_count": 61,
   "id": "ebfcafc5-edae-4418-9c0b-834e5e40e690",
   "metadata": {},
   "outputs": [
    {
     "data": {
      "text/plain": [
       "2970"
      ]
     },
     "execution_count": 61,
     "metadata": {},
     "output_type": "execute_result"
    }
   ],
   "source": [
    "tokenizer.document_count"
   ]
  },
  {
   "cell_type": "code",
   "execution_count": 62,
   "id": "f873aa4f-61c7-40e9-8aae-1f34aff383b1",
   "metadata": {
    "tags": []
   },
   "outputs": [
    {
     "data": {
      "text/plain": [
       "[('good', 1), ('great', 2), ('movie', 3), ('film', 4)]"
      ]
     },
     "execution_count": 62,
     "metadata": {},
     "output_type": "execute_result"
    }
   ],
   "source": [
    "list(tokenizer.word_index.items())[:4]"
   ]
  },
  {
   "cell_type": "code",
   "execution_count": 63,
   "id": "f2643287-2b27-44f4-a145-8ad22e8f0f86",
   "metadata": {},
   "outputs": [
    {
     "name": "stdout",
     "output_type": "stream",
     "text": [
      "way plug us unless go\n",
      "[42, 251, 81, 448, 23]\n"
     ]
    }
   ],
   "source": [
    "print(review[0])\n",
    "print(encoded_docs[0])"
   ]
  },
  {
   "cell_type": "markdown",
   "id": "6e6fc89d-b86a-49de-80ee-4b2adb424235",
   "metadata": {},
   "source": [
    "##### B.3.  Explain the padding process used to standardize the length of sequences, including the following in your explanation:"
   ]
  },
  {
   "cell_type": "markdown",
   "id": "fa8d540d-d7c7-472e-bf21-9e87918f0d5a",
   "metadata": {},
   "source": [
    "The model process requires that the reviews all have the same shape and size.  This is accomplished through padding.  The keras.preprocessing.sequence method pad_sequence takes the input of “maxlen”, the length of the longest review, and adds 0’s to all of the reviews so they are all “maxlen” length. (Karikari, 2020) The 0’s can be inserted at the beginning or the end. I chose to pad the at the beginning because post padding decreases model accuracy. (Reddy, 2019) "
   ]
  },
  {
   "cell_type": "code",
   "execution_count": 64,
   "id": "0f2ee7ad-2aa3-415b-8a9b-d271fe8e487e",
   "metadata": {
    "tags": []
   },
   "outputs": [
    {
     "name": "stdout",
     "output_type": "stream",
     "text": [
      "Maximun word count per review of Review_cleaned: 22\n"
     ]
    }
   ],
   "source": [
    "maxlen = df.Words_cleaned.max()\n",
    "print('Maximun word count per review of Review_cleaned:', df.Words_cleaned.max())"
   ]
  },
  {
   "cell_type": "code",
   "execution_count": 65,
   "id": "08dd8791-37d5-4ff6-a70b-4be7063cba18",
   "metadata": {},
   "outputs": [],
   "source": [
    "padded_sequence = pad_sequences(encoded_docs, maxlen)"
   ]
  },
  {
   "cell_type": "code",
   "execution_count": 66,
   "id": "14c65a4a-9fdc-4641-b605-763e3eee5df4",
   "metadata": {},
   "outputs": [
    {
     "data": {
      "text/plain": [
       "array([  0,   0,   0,   0,   0,   0,   0,   0,   0,   0,   0,   0,   0,\n",
       "         0,   0,   0,   0,  42, 251,  81, 448,  23])"
      ]
     },
     "execution_count": 66,
     "metadata": {},
     "output_type": "execute_result"
    }
   ],
   "source": [
    "padded_sequence[0]"
   ]
  },
  {
   "cell_type": "code",
   "execution_count": 67,
   "id": "4f9574a3-2d83-4a67-bf08-7fdc29a02526",
   "metadata": {},
   "outputs": [
    {
     "data": {
      "text/plain": [
       "2060"
      ]
     },
     "execution_count": 67,
     "metadata": {},
     "output_type": "execute_result"
    }
   ],
   "source": [
    "vocab_size"
   ]
  },
  {
   "cell_type": "code",
   "execution_count": 68,
   "id": "7a027028-2e2b-4ad4-ab1d-5f5ab0a7b087",
   "metadata": {},
   "outputs": [
    {
     "data": {
      "text/plain": [
       "7"
      ]
     },
     "execution_count": 68,
     "metadata": {},
     "output_type": "execute_result"
    }
   ],
   "source": [
    "max_sequence_embedding = int(round(np.sqrt(np.sqrt(vocab_size)), 0))\n",
    "max_sequence_embedding"
   ]
  },
  {
   "cell_type": "markdown",
   "id": "bf377c3f-040d-46a7-8695-7a1f22f3d04f",
   "metadata": {},
   "source": [
    "##### B.4.  Identify how many categories of sentiment will be used and an activation function for the final dense layer of the network."
   ]
  },
  {
   "cell_type": "markdown",
   "id": "cfce5987-e21c-4102-9129-2d69ad3ff39c",
   "metadata": {},
   "source": [
    "There are 2 categories of sentiment in the dataset 0-negative and 1-positive. I used the 'sigmoid' activation function because it produced better accuracy than 'softmax'."
   ]
  },
  {
   "cell_type": "markdown",
   "id": "62718053-13fb-47b6-a007-f7ad62618202",
   "metadata": {},
   "source": [
    "`model.add(Dense(1, activation='sigmoid'))`"
   ]
  },
  {
   "cell_type": "markdown",
   "id": "1fa8838b-a9c6-41b2-9493-43309627ef27",
   "metadata": {},
   "source": [
    "##### B.5.  Explain the steps used to prepare the data for analysis, including the size of the training, validation, and test set split."
   ]
  },
  {
   "cell_type": "markdown",
   "id": "7bd27040-425e-45a7-bc54-9ec71a7bc4d5",
   "metadata": {},
   "source": [
    "1.\tLoad data.\n",
    "2.\tJoin the 3 sets into 1.\n",
    "3.\tExplore the data.\n",
    "4.\tEvaluate the reviews for unusual characters, emojis, emoticons, and numbers.\n",
    "5.\tClean the data.\n",
    "6.\tTokenize the data.\n",
    "7.\tRetrieve vocabulary size.\n",
    "8.\tPad the data to maxlen.\n",
    "9.\tConvert data to np.array.\n",
    "10.\tSplit into train and test 80/20."
   ]
  },
  {
   "cell_type": "code",
   "execution_count": 69,
   "id": "5fa3cae2-9285-48f3-ad82-34808ffd6d46",
   "metadata": {},
   "outputs": [
    {
     "data": {
      "text/plain": [
       "array([[  0,   0,   0, ...,  81, 448,  23],\n",
       "       [  0,   0,   0, ...,  64,  31, 400],\n",
       "       [  0,   0,   0, ...,   0,   2, 932],\n",
       "       ...,\n",
       "       [  0,   0,   0, ...,   0, 433, 764],\n",
       "       [  0,   0,   0, ...,   0,   0,  14],\n",
       "       [  0,   0,   0, ..., 290,  62,  69]])"
      ]
     },
     "execution_count": 69,
     "metadata": {},
     "output_type": "execute_result"
    }
   ],
   "source": [
    "X = padded_sequence\n",
    "X"
   ]
  },
  {
   "cell_type": "code",
   "execution_count": 70,
   "id": "f9791276-7a70-4164-a657-827ae69848be",
   "metadata": {},
   "outputs": [
    {
     "data": {
      "text/plain": [
       "array([0, 1, 1, ..., 0, 0, 0], dtype=int64)"
      ]
     },
     "execution_count": 70,
     "metadata": {},
     "output_type": "execute_result"
    }
   ],
   "source": [
    "y = np.array(df.Score)\n",
    "y"
   ]
  },
  {
   "cell_type": "code",
   "execution_count": 71,
   "id": "6b7a795b-d2c4-41dc-996e-4bcff8639359",
   "metadata": {},
   "outputs": [
    {
     "name": "stdout",
     "output_type": "stream",
     "text": [
      "(2970, 22) (2970,)\n"
     ]
    }
   ],
   "source": [
    "print(X.shape, y.shape)"
   ]
  },
  {
   "cell_type": "code",
   "execution_count": 72,
   "id": "fde074ec-d8cb-46d4-b688-25fd74faa6a2",
   "metadata": {
    "tags": []
   },
   "outputs": [],
   "source": [
    "#Split data\n",
    "X_train, X_test, y_train, y_test = train_test_split(X, y, test_size=0.2, random_state=0, stratify= y )"
   ]
  },
  {
   "cell_type": "code",
   "execution_count": 73,
   "id": "77b332b8-9849-4d1d-b151-a2883a26e4bc",
   "metadata": {},
   "outputs": [
    {
     "name": "stdout",
     "output_type": "stream",
     "text": [
      "(2376, 22) (2376,)\n"
     ]
    }
   ],
   "source": [
    "print(X_train.shape, y_train.shape)"
   ]
  },
  {
   "cell_type": "markdown",
   "id": "c9acb4b3-9afb-4554-98d1-88c8de633637",
   "metadata": {},
   "source": [
    "##### B.6.  Provide a copy of the prepared dataset."
   ]
  },
  {
   "cell_type": "code",
   "execution_count": 90,
   "id": "7f49bfb5-a637-4ad1-94f5-a7402a8012eb",
   "metadata": {},
   "outputs": [],
   "source": [
    "pd.DataFrame(X_train).to_csv('X_train.csv')\n",
    "pd.DataFrame(X_test).to_csv('X_test.csv')\n",
    "pd.DataFrame(y_train).to_csv('y_train.csv')\n",
    "pd.DataFrame(y_test).to_csv('y_test.csv')"
   ]
  },
  {
   "cell_type": "code",
   "execution_count": 88,
   "id": "4034a1a4-532d-49a5-ae1c-f2bc219f624d",
   "metadata": {},
   "outputs": [
    {
     "data": {
      "text/html": [
       "<div>\n",
       "<style scoped>\n",
       "    .dataframe tbody tr th:only-of-type {\n",
       "        vertical-align: middle;\n",
       "    }\n",
       "\n",
       "    .dataframe tbody tr th {\n",
       "        vertical-align: top;\n",
       "    }\n",
       "\n",
       "    .dataframe thead th {\n",
       "        text-align: right;\n",
       "    }\n",
       "</style>\n",
       "<table border=\"1\" class=\"dataframe\">\n",
       "  <thead>\n",
       "    <tr style=\"text-align: right;\">\n",
       "      <th></th>\n",
       "      <th>0</th>\n",
       "      <th>1</th>\n",
       "      <th>2</th>\n",
       "      <th>3</th>\n",
       "      <th>4</th>\n",
       "      <th>5</th>\n",
       "      <th>6</th>\n",
       "      <th>7</th>\n",
       "      <th>8</th>\n",
       "      <th>9</th>\n",
       "      <th>...</th>\n",
       "      <th>12</th>\n",
       "      <th>13</th>\n",
       "      <th>14</th>\n",
       "      <th>15</th>\n",
       "      <th>16</th>\n",
       "      <th>17</th>\n",
       "      <th>18</th>\n",
       "      <th>19</th>\n",
       "      <th>20</th>\n",
       "      <th>21</th>\n",
       "    </tr>\n",
       "  </thead>\n",
       "  <tbody>\n",
       "    <tr>\n",
       "      <th>0</th>\n",
       "      <td>0</td>\n",
       "      <td>0</td>\n",
       "      <td>0</td>\n",
       "      <td>0</td>\n",
       "      <td>0</td>\n",
       "      <td>0</td>\n",
       "      <td>0</td>\n",
       "      <td>0</td>\n",
       "      <td>0</td>\n",
       "      <td>0</td>\n",
       "      <td>...</td>\n",
       "      <td>0</td>\n",
       "      <td>0</td>\n",
       "      <td>0</td>\n",
       "      <td>0</td>\n",
       "      <td>0</td>\n",
       "      <td>0</td>\n",
       "      <td>0</td>\n",
       "      <td>92</td>\n",
       "      <td>915</td>\n",
       "      <td>3</td>\n",
       "    </tr>\n",
       "    <tr>\n",
       "      <th>1</th>\n",
       "      <td>0</td>\n",
       "      <td>0</td>\n",
       "      <td>0</td>\n",
       "      <td>0</td>\n",
       "      <td>0</td>\n",
       "      <td>0</td>\n",
       "      <td>0</td>\n",
       "      <td>0</td>\n",
       "      <td>0</td>\n",
       "      <td>0</td>\n",
       "      <td>...</td>\n",
       "      <td>0</td>\n",
       "      <td>0</td>\n",
       "      <td>0</td>\n",
       "      <td>0</td>\n",
       "      <td>0</td>\n",
       "      <td>849</td>\n",
       "      <td>387</td>\n",
       "      <td>239</td>\n",
       "      <td>864</td>\n",
       "      <td>1782</td>\n",
       "    </tr>\n",
       "    <tr>\n",
       "      <th>2</th>\n",
       "      <td>0</td>\n",
       "      <td>0</td>\n",
       "      <td>0</td>\n",
       "      <td>0</td>\n",
       "      <td>0</td>\n",
       "      <td>0</td>\n",
       "      <td>0</td>\n",
       "      <td>0</td>\n",
       "      <td>0</td>\n",
       "      <td>0</td>\n",
       "      <td>...</td>\n",
       "      <td>0</td>\n",
       "      <td>0</td>\n",
       "      <td>0</td>\n",
       "      <td>0</td>\n",
       "      <td>0</td>\n",
       "      <td>0</td>\n",
       "      <td>0</td>\n",
       "      <td>0</td>\n",
       "      <td>31</td>\n",
       "      <td>182</td>\n",
       "    </tr>\n",
       "    <tr>\n",
       "      <th>3</th>\n",
       "      <td>0</td>\n",
       "      <td>0</td>\n",
       "      <td>0</td>\n",
       "      <td>0</td>\n",
       "      <td>0</td>\n",
       "      <td>0</td>\n",
       "      <td>0</td>\n",
       "      <td>0</td>\n",
       "      <td>0</td>\n",
       "      <td>0</td>\n",
       "      <td>...</td>\n",
       "      <td>0</td>\n",
       "      <td>0</td>\n",
       "      <td>0</td>\n",
       "      <td>278</td>\n",
       "      <td>486</td>\n",
       "      <td>429</td>\n",
       "      <td>96</td>\n",
       "      <td>851</td>\n",
       "      <td>669</td>\n",
       "      <td>81</td>\n",
       "    </tr>\n",
       "    <tr>\n",
       "      <th>4</th>\n",
       "      <td>0</td>\n",
       "      <td>0</td>\n",
       "      <td>0</td>\n",
       "      <td>0</td>\n",
       "      <td>0</td>\n",
       "      <td>0</td>\n",
       "      <td>0</td>\n",
       "      <td>0</td>\n",
       "      <td>0</td>\n",
       "      <td>0</td>\n",
       "      <td>...</td>\n",
       "      <td>0</td>\n",
       "      <td>0</td>\n",
       "      <td>0</td>\n",
       "      <td>0</td>\n",
       "      <td>857</td>\n",
       "      <td>98</td>\n",
       "      <td>49</td>\n",
       "      <td>81</td>\n",
       "      <td>176</td>\n",
       "      <td>189</td>\n",
       "    </tr>\n",
       "    <tr>\n",
       "      <th>...</th>\n",
       "      <td>...</td>\n",
       "      <td>...</td>\n",
       "      <td>...</td>\n",
       "      <td>...</td>\n",
       "      <td>...</td>\n",
       "      <td>...</td>\n",
       "      <td>...</td>\n",
       "      <td>...</td>\n",
       "      <td>...</td>\n",
       "      <td>...</td>\n",
       "      <td>...</td>\n",
       "      <td>...</td>\n",
       "      <td>...</td>\n",
       "      <td>...</td>\n",
       "      <td>...</td>\n",
       "      <td>...</td>\n",
       "      <td>...</td>\n",
       "      <td>...</td>\n",
       "      <td>...</td>\n",
       "      <td>...</td>\n",
       "      <td>...</td>\n",
       "    </tr>\n",
       "    <tr>\n",
       "      <th>2371</th>\n",
       "      <td>0</td>\n",
       "      <td>0</td>\n",
       "      <td>0</td>\n",
       "      <td>0</td>\n",
       "      <td>0</td>\n",
       "      <td>0</td>\n",
       "      <td>0</td>\n",
       "      <td>0</td>\n",
       "      <td>0</td>\n",
       "      <td>0</td>\n",
       "      <td>...</td>\n",
       "      <td>0</td>\n",
       "      <td>0</td>\n",
       "      <td>0</td>\n",
       "      <td>0</td>\n",
       "      <td>0</td>\n",
       "      <td>0</td>\n",
       "      <td>0</td>\n",
       "      <td>0</td>\n",
       "      <td>0</td>\n",
       "      <td>550</td>\n",
       "    </tr>\n",
       "    <tr>\n",
       "      <th>2372</th>\n",
       "      <td>0</td>\n",
       "      <td>0</td>\n",
       "      <td>0</td>\n",
       "      <td>0</td>\n",
       "      <td>0</td>\n",
       "      <td>0</td>\n",
       "      <td>0</td>\n",
       "      <td>0</td>\n",
       "      <td>0</td>\n",
       "      <td>0</td>\n",
       "      <td>...</td>\n",
       "      <td>0</td>\n",
       "      <td>0</td>\n",
       "      <td>0</td>\n",
       "      <td>0</td>\n",
       "      <td>0</td>\n",
       "      <td>0</td>\n",
       "      <td>0</td>\n",
       "      <td>0</td>\n",
       "      <td>107</td>\n",
       "      <td>734</td>\n",
       "    </tr>\n",
       "    <tr>\n",
       "      <th>2373</th>\n",
       "      <td>0</td>\n",
       "      <td>0</td>\n",
       "      <td>0</td>\n",
       "      <td>0</td>\n",
       "      <td>0</td>\n",
       "      <td>0</td>\n",
       "      <td>0</td>\n",
       "      <td>0</td>\n",
       "      <td>0</td>\n",
       "      <td>0</td>\n",
       "      <td>...</td>\n",
       "      <td>0</td>\n",
       "      <td>0</td>\n",
       "      <td>0</td>\n",
       "      <td>0</td>\n",
       "      <td>0</td>\n",
       "      <td>119</td>\n",
       "      <td>1051</td>\n",
       "      <td>530</td>\n",
       "      <td>305</td>\n",
       "      <td>407</td>\n",
       "    </tr>\n",
       "    <tr>\n",
       "      <th>2374</th>\n",
       "      <td>0</td>\n",
       "      <td>0</td>\n",
       "      <td>0</td>\n",
       "      <td>0</td>\n",
       "      <td>0</td>\n",
       "      <td>0</td>\n",
       "      <td>0</td>\n",
       "      <td>0</td>\n",
       "      <td>0</td>\n",
       "      <td>0</td>\n",
       "      <td>...</td>\n",
       "      <td>0</td>\n",
       "      <td>0</td>\n",
       "      <td>0</td>\n",
       "      <td>0</td>\n",
       "      <td>0</td>\n",
       "      <td>0</td>\n",
       "      <td>0</td>\n",
       "      <td>0</td>\n",
       "      <td>24</td>\n",
       "      <td>1918</td>\n",
       "    </tr>\n",
       "    <tr>\n",
       "      <th>2375</th>\n",
       "      <td>0</td>\n",
       "      <td>0</td>\n",
       "      <td>0</td>\n",
       "      <td>0</td>\n",
       "      <td>0</td>\n",
       "      <td>0</td>\n",
       "      <td>0</td>\n",
       "      <td>0</td>\n",
       "      <td>0</td>\n",
       "      <td>0</td>\n",
       "      <td>...</td>\n",
       "      <td>0</td>\n",
       "      <td>0</td>\n",
       "      <td>0</td>\n",
       "      <td>0</td>\n",
       "      <td>0</td>\n",
       "      <td>0</td>\n",
       "      <td>0</td>\n",
       "      <td>1533</td>\n",
       "      <td>562</td>\n",
       "      <td>179</td>\n",
       "    </tr>\n",
       "  </tbody>\n",
       "</table>\n",
       "<p>2376 rows × 22 columns</p>\n",
       "</div>"
      ],
      "text/plain": [
       "      0   1   2   3   4   5   6   7   8   9   ...  12  13  14   15   16   17  \\\n",
       "0      0   0   0   0   0   0   0   0   0   0  ...   0   0   0    0    0    0   \n",
       "1      0   0   0   0   0   0   0   0   0   0  ...   0   0   0    0    0  849   \n",
       "2      0   0   0   0   0   0   0   0   0   0  ...   0   0   0    0    0    0   \n",
       "3      0   0   0   0   0   0   0   0   0   0  ...   0   0   0  278  486  429   \n",
       "4      0   0   0   0   0   0   0   0   0   0  ...   0   0   0    0  857   98   \n",
       "...   ..  ..  ..  ..  ..  ..  ..  ..  ..  ..  ...  ..  ..  ..  ...  ...  ...   \n",
       "2371   0   0   0   0   0   0   0   0   0   0  ...   0   0   0    0    0    0   \n",
       "2372   0   0   0   0   0   0   0   0   0   0  ...   0   0   0    0    0    0   \n",
       "2373   0   0   0   0   0   0   0   0   0   0  ...   0   0   0    0    0  119   \n",
       "2374   0   0   0   0   0   0   0   0   0   0  ...   0   0   0    0    0    0   \n",
       "2375   0   0   0   0   0   0   0   0   0   0  ...   0   0   0    0    0    0   \n",
       "\n",
       "        18    19   20    21  \n",
       "0        0    92  915     3  \n",
       "1      387   239  864  1782  \n",
       "2        0     0   31   182  \n",
       "3       96   851  669    81  \n",
       "4       49    81  176   189  \n",
       "...    ...   ...  ...   ...  \n",
       "2371     0     0    0   550  \n",
       "2372     0     0  107   734  \n",
       "2373  1051   530  305   407  \n",
       "2374     0     0   24  1918  \n",
       "2375     0  1533  562   179  \n",
       "\n",
       "[2376 rows x 22 columns]"
      ]
     },
     "execution_count": 88,
     "metadata": {},
     "output_type": "execute_result"
    }
   ],
   "source": [
    "X_train_df"
   ]
  },
  {
   "cell_type": "markdown",
   "id": "55d45fd3-1fe6-4074-9c3d-c242cd81ef1a",
   "metadata": {
    "toc-hr-collapsed": true
   },
   "source": [
    "### Part III:  Network Architecture"
   ]
  },
  {
   "cell_type": "markdown",
   "id": "86133971-a456-40f1-8a1d-67815c4136a7",
   "metadata": {},
   "source": [
    "#### C.  Describe the type of network used by doing the following:"
   ]
  },
  {
   "cell_type": "markdown",
   "id": "9b0372d7-33d7-4bf0-b64e-bdb443e8b69f",
   "metadata": {},
   "source": [
    "#### C.1.  Provide the output of the model summary of the function from TensorFlow."
   ]
  },
  {
   "cell_type": "code",
   "execution_count": 75,
   "id": "ab88cf91-d448-4ca2-8ef8-33a496835a55",
   "metadata": {},
   "outputs": [],
   "source": [
    "clear_session()"
   ]
  },
  {
   "cell_type": "code",
   "execution_count": 76,
   "id": "6e055357-985a-42dc-8217-8cadb01d0f38",
   "metadata": {
    "tags": []
   },
   "outputs": [
    {
     "name": "stdout",
     "output_type": "stream",
     "text": [
      "Model: \"sequential\"\n",
      "_________________________________________________________________\n",
      " Layer (type)                Output Shape              Param #   \n",
      "=================================================================\n",
      " embedding (Embedding)       (None, 22, 7)             14420     \n",
      "                                                                 \n",
      " global_average_pooling1d (G  (None, 7)                0         \n",
      " lobalAveragePooling1D)                                          \n",
      "                                                                 \n",
      " dense (Dense)               (None, 75)                600       \n",
      "                                                                 \n",
      " dense_1 (Dense)             (None, 1)                 76        \n",
      "                                                                 \n",
      "=================================================================\n",
      "Total params: 15,096\n",
      "Trainable params: 15,096\n",
      "Non-trainable params: 0\n",
      "_________________________________________________________________\n",
      "None\n"
     ]
    }
   ],
   "source": [
    "# Create model\n",
    "early_stopping = EarlyStopping(monitor='val_loss', patience=5)\n",
    "model = Sequential()\n",
    "\n",
    "embedding_vector_length = 7\n",
    "model.add(Embedding(vocab_size, embedding_vector_length,input_length=maxlen))\n",
    "model.add(GlobalAveragePooling1D())\n",
    "model.add(Dense(75,  activation='relu'))\n",
    "model.add(Dense(1, activation='sigmoid')) \n",
    "model.compile(loss='binary_crossentropy', \n",
    "              optimizer='adam', \n",
    "              metrics=['accuracy'])\n",
    "print(model.summary()) "
   ]
  },
  {
   "cell_type": "code",
   "execution_count": 77,
   "id": "9b758b9c-5400-48af-9455-6468983b6030",
   "metadata": {
    "tags": []
   },
   "outputs": [
    {
     "name": "stdout",
     "output_type": "stream",
     "text": [
      "Epoch 1/20\n",
      "75/75 [==============================] - 1s 4ms/step - loss: 0.6926 - accuracy: 0.5551 - val_loss: 0.6910 - val_accuracy: 0.7626\n",
      "Epoch 2/20\n",
      "75/75 [==============================] - 0s 2ms/step - loss: 0.6860 - accuracy: 0.7121 - val_loss: 0.6781 - val_accuracy: 0.6919\n",
      "Epoch 3/20\n",
      "75/75 [==============================] - 0s 2ms/step - loss: 0.6497 - accuracy: 0.7353 - val_loss: 0.6266 - val_accuracy: 0.7946\n",
      "Epoch 4/20\n",
      "75/75 [==============================] - 0s 2ms/step - loss: 0.5529 - accuracy: 0.8594 - val_loss: 0.5331 - val_accuracy: 0.8114\n",
      "Epoch 5/20\n",
      "75/75 [==============================] - 0s 2ms/step - loss: 0.4278 - accuracy: 0.8889 - val_loss: 0.4604 - val_accuracy: 0.8098\n",
      "Epoch 6/20\n",
      "75/75 [==============================] - 0s 2ms/step - loss: 0.3338 - accuracy: 0.8981 - val_loss: 0.4288 - val_accuracy: 0.8148\n",
      "Epoch 7/20\n",
      "75/75 [==============================] - 0s 2ms/step - loss: 0.2715 - accuracy: 0.9175 - val_loss: 0.4154 - val_accuracy: 0.8098\n",
      "Epoch 8/20\n",
      "75/75 [==============================] - 0s 2ms/step - loss: 0.2285 - accuracy: 0.9255 - val_loss: 0.4189 - val_accuracy: 0.8098\n",
      "Epoch 9/20\n",
      "75/75 [==============================] - 0s 2ms/step - loss: 0.2000 - accuracy: 0.9369 - val_loss: 0.4353 - val_accuracy: 0.8098\n"
     ]
    }
   ],
   "source": [
    "# Fitting the mosel\n",
    "early_stopping = EarlyStopping(monitor='val_loss', patience=2)\n",
    "history = model.fit(X_train,y_train,\n",
    "                    validation_data=(X_test, y_test),\n",
    "                    epochs=20, batch_size=32,callbacks=[early_stopping] )\n",
    "loss, accuracy = model.evaluate(X_test, y_test, verbose=False)"
   ]
  },
  {
   "cell_type": "markdown",
   "id": "04c7db94-3376-46bf-bd51-0d1429efb713",
   "metadata": {},
   "source": [
    "#### C.2.  Discuss the number of layers, the type of layers, and total number of parameters."
   ]
  },
  {
   "cell_type": "markdown",
   "id": "ccc16b3b-35dd-419c-8ba4-f6ef430c4d06",
   "metadata": {},
   "source": [
    "The model has 4 layers. The embedding layer is the first and takes the input. It has 14420 parameters. the second one,  GlobalAveragePooling1D(), flattens the output from the first layer and has no parameters. The third is a dense layer with 75 nodes, uses ‘relu’ activation, and has 600 parameters.  The final layer is the output layer.  It is a dense layer with 1 node, uses ‘sigmoid’ activation, and has76 parameters. The total number of parameters is  15,096."
   ]
  },
  {
   "cell_type": "markdown",
   "id": "0f3fc59f-ea4f-489c-8a5b-9c1e612b0924",
   "metadata": {},
   "source": [
    "#### C.3.  Justify the choice of hyperparameters, including the following elements:    "
   ]
  },
  {
   "cell_type": "markdown",
   "id": "8264e465-a971-425e-aa22-5ffcedc4254c",
   "metadata": {},
   "source": [
    "**•   activation functions**"
   ]
  },
  {
   "cell_type": "markdown",
   "id": "8ceca60d-9b26-4343-947a-ca6b6f3700d8",
   "metadata": {
    "tags": []
   },
   "source": [
    "2 activation functions were used in my model: 1) Rectified Linear Activation (ReLu)- one of the most frequently used activation functions for hidden layers and is computationally fast. (Chen, 2021), 2) Sigmoid function- the best choice for binary classification. (Baheti, 2022)"
   ]
  },
  {
   "cell_type": "markdown",
   "id": "15e25061-9f64-4f05-996c-e4d15f180e4e",
   "metadata": {},
   "source": [
    "**•   number of nodes per layer**"
   ]
  },
  {
   "cell_type": "markdown",
   "id": "065a46cc-5f5b-48ed-832b-cc9611b1df86",
   "metadata": {},
   "source": [
    "In the input layer, the number of nodes is determined by the max word length of 22. The hidden dense layer has 75 nodes.  This was determined through trial and error to get the best results. The output has one node for the binary class."
   ]
  },
  {
   "cell_type": "markdown",
   "id": "584f5336-9f94-4676-8db8-ad4b85c15da2",
   "metadata": {},
   "source": [
    "**•   loss function**"
   ]
  },
  {
   "cell_type": "markdown",
   "id": "ddd114d8-7ac8-43c2-bb28-507db20b5462",
   "metadata": {},
   "source": [
    "The loss function is binary_crossentropy, which is the appropriate choice for a binary classification problem. (Virahonda, 2020)"
   ]
  },
  {
   "cell_type": "markdown",
   "id": "bba0ff39-5c49-4ac5-a8eb-16815680f97c",
   "metadata": {},
   "source": [
    "**•   optimizer**"
   ]
  },
  {
   "cell_type": "markdown",
   "id": "5addff9a-8fb7-4917-92a6-338c8cd3fe29",
   "metadata": {},
   "source": [
    "The Adam optimizer was used. It has a faster computational speed and doesn’t require tuning the learning rate. It is considered the default optimizer for most applications. (Gupta, 2022)"
   ]
  },
  {
   "cell_type": "markdown",
   "id": "4f4b6ae3-60fa-402b-bd59-96148755aca3",
   "metadata": {
    "tags": []
   },
   "source": [
    "**•   stopping criteria**"
   ]
  },
  {
   "cell_type": "markdown",
   "id": "700e7c97-ee09-4b0e-a579-83d98baad18c",
   "metadata": {},
   "source": [
    "I used the validation loss for the stopping criteria.  I wasn’t having any problems with accuracy, but overfitting was an issue.  I set patience to 2 to go 2 additional epochs when it began to trend upward. "
   ]
  },
  {
   "cell_type": "markdown",
   "id": "a016e4d6-9609-4dc1-991e-92a3b150ee69",
   "metadata": {},
   "source": [
    "**•   evaluation metric**"
   ]
  },
  {
   "cell_type": "markdown",
   "id": "010531d5-bb40-433e-b6a7-b016c43b18ea",
   "metadata": {},
   "source": [
    "The evaluation metric used was accuracy. The final model had the correct 81% prediction on the test data set."
   ]
  },
  {
   "cell_type": "code",
   "execution_count": 78,
   "id": "857ac28d-c3f6-4a9d-8da7-9a9eedd59fd5",
   "metadata": {},
   "outputs": [
    {
     "name": "stdout",
     "output_type": "stream",
     "text": [
      "Model: \"sequential_1\"\n",
      "_________________________________________________________________\n",
      " Layer (type)                Output Shape              Param #   \n",
      "=================================================================\n",
      " embedding_1 (Embedding)     (None, 22, 7)             14420     \n",
      "                                                                 \n",
      " global_average_pooling1d_1   (None, 7)                0         \n",
      " (GlobalAveragePooling1D)                                        \n",
      "                                                                 \n",
      " dense_2 (Dense)             (None, 75)                600       \n",
      "                                                                 \n",
      " dense_3 (Dense)             (None, 1)                 76        \n",
      "                                                                 \n",
      "=================================================================\n",
      "Total params: 15,096\n",
      "Trainable params: 15,096\n",
      "Non-trainable params: 0\n",
      "_________________________________________________________________\n",
      "None\n"
     ]
    }
   ],
   "source": [
    "# Create model\n",
    "early_stopping = EarlyStopping(monitor='val_loss', patience=5)\n",
    "model1 = Sequential()\n",
    "\n",
    "embedding_vector_length = 7\n",
    "model1.add(Embedding(vocab_size, embedding_vector_length,input_length=maxlen))\n",
    "model1.add(GlobalAveragePooling1D())\n",
    "model1.add(Dense(75,  activation='relu'))\n",
    "model1.add(Dense(1, activation='sigmoid')) \n",
    "model1.compile(loss='binary_crossentropy', \n",
    "              optimizer='adam', \n",
    "              metrics=['accuracy'])\n",
    "print(model1.summary()) "
   ]
  },
  {
   "cell_type": "code",
   "execution_count": 79,
   "id": "c3a480d8-8bac-4946-9806-1c8ce8098fe8",
   "metadata": {},
   "outputs": [],
   "source": [
    "# Best model with epochs = 6\n",
    "history1 = model1.fit(X_train,y_train,\n",
    "                    validation_data=(X_test, y_test),\n",
    "                    epochs=6, batch_size=32,verbose=0)\n",
    "loss1, accuracy1 = model1.evaluate(X_test, y_test, verbose=False)"
   ]
  },
  {
   "cell_type": "code",
   "execution_count": 80,
   "id": "93e061c7-3f70-46ff-b55f-afd2f79062b0",
   "metadata": {},
   "outputs": [
    {
     "name": "stdout",
     "output_type": "stream",
     "text": [
      "Test loss:0.42741408944129944/ Test accuracy: 0.8148148059844971\n"
     ]
    }
   ],
   "source": [
    "print(f'Test loss:{loss1}/ Test accuracy: {accuracy1}')"
   ]
  },
  {
   "cell_type": "markdown",
   "id": "ff451d79-a7b6-4e02-a324-af5dc27216a8",
   "metadata": {},
   "source": [
    "### Part IV:  Model Evaluation"
   ]
  },
  {
   "cell_type": "markdown",
   "id": "28d6649d-d012-45c9-99bd-fcf7ff6cf2c5",
   "metadata": {},
   "source": [
    "#### D.  Evaluate the model training process and its relevant outcomes by doing the following:"
   ]
  },
  {
   "cell_type": "markdown",
   "id": "49536c31-a327-4333-81f2-dc1b532ed19b",
   "metadata": {},
   "source": [
    "#### D.1.  Discuss the impact of using stopping criteria instead of defining the number of epochs, including a screenshot showing the final training epoch."
   ]
  },
  {
   "cell_type": "markdown",
   "id": "a323fc7e-940c-4d5a-a6de-a6cf39f2c03d",
   "metadata": {},
   "source": [
    "The stopping criteria stopped at 8 epochs. The best validation loss was at 6 epochs. Using the stopping criteria makes the process of finding the right model easier because it stops once the model stops to overfit. (Brownlee, 2018). See code above."
   ]
  },
  {
   "cell_type": "markdown",
   "id": "c10de376-9476-44dd-a5cd-1ffac5e647fd",
   "metadata": {},
   "source": [
    "#### D.2.  Provide visualizations of the model’s training process, including a line graph of the loss and chosen evaluation metric."
   ]
  },
  {
   "cell_type": "markdown",
   "id": "ed86979b-dd7b-4d71-9b62-f7a6c5d5f4df",
   "metadata": {},
   "source": [
    "See the model training process above."
   ]
  },
  {
   "cell_type": "code",
   "execution_count": 81,
   "id": "7ba4c022-a6e1-4744-ace7-cdb8d9d5df66",
   "metadata": {
    "tags": []
   },
   "outputs": [
    {
     "data": {
      "image/png": "[encoded data removed]",
      "text/plain": [
       "<Figure size 576x360 with 1 Axes>"
      ]
     },
     "metadata": {},
     "output_type": "display_data"
    }
   ],
   "source": [
    "pd.DataFrame(history.history).plot(figsize=(8, 5))\n",
    "plt.grid(True)\n",
    "plt.gca().set_ylim(0, 1) \n",
    "plt.show()"
   ]
  },
  {
   "cell_type": "markdown",
   "id": "a3ce5eaa-262c-4ec6-a7d5-7424d142da44",
   "metadata": {
    "tags": []
   },
   "source": [
    "#### D.3.  Assess the fitness of the model and any measures taken to address overfitting."
   ]
  },
  {
   "cell_type": "markdown",
   "id": "df26bf19-96e3-4aec-b6d1-be701bb62630",
   "metadata": {},
   "source": [
    "Many different models were tried.  After starting with a basic model, layers and hyperparameters were added and tweaked.  Most ended up with overfitting. Improvements to the model may be possible with additional training data. (Testing and Debugging in Machine Learning!)"
   ]
  },
  {
   "cell_type": "markdown",
   "id": "b5eacba1-ebcc-45d9-ae67-11682f56ed59",
   "metadata": {},
   "source": [
    "#### D>4.  Discuss the predictive accuracy of the trained network."
   ]
  },
  {
   "cell_type": "code",
   "execution_count": 82,
   "id": "8026e2ce-4e98-438a-93fa-9cdedc77b238",
   "metadata": {},
   "outputs": [
    {
     "name": "stdout",
     "output_type": "stream",
     "text": [
      "Test loss:0.42741408944129944/ Test accuracy: 0.8148148059844971\n"
     ]
    }
   ],
   "source": [
    "print(f'Test loss:{loss1}/ Test accuracy: {accuracy1}')"
   ]
  },
  {
   "cell_type": "markdown",
   "id": "0aa3f894-6030-4ac9-b615-cd4d4fc64cc2",
   "metadata": {},
   "source": [
    "The predictive accuracy was 81% on the test data."
   ]
  },
  {
   "cell_type": "markdown",
   "id": "ea3b8910-9d3f-4d3e-9a7d-2cf06bd55a6c",
   "metadata": {},
   "source": [
    "### Part V:  Summary and Recommendations"
   ]
  },
  {
   "cell_type": "markdown",
   "id": "c4fa78cb-0b7d-4546-935b-f6e4122557ef",
   "metadata": {},
   "source": [
    "#### E.  Provide the code used to save the trained network within the neural network."
   ]
  },
  {
   "cell_type": "code",
   "execution_count": 83,
   "id": "c3edaffc-8c30-46aa-b7b2-9c4246801ea9",
   "metadata": {},
   "outputs": [],
   "source": [
    "model.save('D213_Task_2.h5')"
   ]
  },
  {
   "cell_type": "markdown",
   "id": "230bebff-4d9a-4665-9b03-8a2b72b8af20",
   "metadata": {},
   "source": [
    "#### F.  Discuss the functionality of your neural network, including the impact of the network architecture."
   ]
  },
  {
   "cell_type": "markdown",
   "id": "a8a70cf5-6563-40e5-9726-00117a386d19",
   "metadata": {},
   "source": [
    "The purpose of this analysis was to use 3000 labeled customer reviews to train a neural network model to predict sentiment.  The 4 layer sequential model has an acceptable predictive accuracy of  81%."
   ]
  },
  {
   "cell_type": "markdown",
   "id": "c390a0fb-0cdb-4f49-90c7-e355304d635f",
   "metadata": {},
   "source": [
    "#### G.  Recommend a course of action based on your results."
   ]
  },
  {
   "cell_type": "markdown",
   "id": "7db2269b-ae50-4542-8d83-023e41c70d96",
   "metadata": {},
   "source": [
    "Given the acceptable predictive accuracy, this model can be implemented to predict customer sentiment.  Would recommend continuing to update the model as more data is collected."
   ]
  },
  {
   "cell_type": "markdown",
   "id": "88dda6ed-186c-4922-88b6-79323e88874f",
   "metadata": {},
   "source": [
    "#### I.  List the web sources used to acquire data or segments of third-party code to support the application."
   ]
  },
  {
   "cell_type": "markdown",
   "id": "97fcc706-ec36-46cb-a4d5-3549e8a9a97d",
   "metadata": {},
   "source": [
    "https://neptune.ai/blog/exploratory-data-analysis-natural-language-processing-toolshttps://neptune.ai/blog/exploratory-data-analysis-natural-language-processing-tools"
   ]
  },
  {
   "cell_type": "markdown",
   "id": "ba2fcdb3-447d-4d82-8fa9-2f24696dc871",
   "metadata": {},
   "source": [
    "https://wgu.udemy.com/course/text-analysis-and-natural-language-processing-with-python/learn/lecture/26436610#overview"
   ]
  },
  {
   "cell_type": "markdown",
   "id": "f61d56cf-8dc5-4c10-b001-6ed7ac08daf1",
   "metadata": {},
   "source": [
    "https://github.com/Apress/natural-language-processing-recipes-2e/blob/main/Chapter%202.ipynb"
   ]
  },
  {
   "cell_type": "markdown",
   "id": "501c10f8-1e2f-4671-8c27-dcc9f6ab001f",
   "metadata": {},
   "source": [
    "https://stackoverflow.com/questions/47316783/python-dataframe-remove-duplicate-words-in-the-same-cell-within-a-column-in-pyt"
   ]
  },
  {
   "cell_type": "markdown",
   "id": "ba730fbc-7e29-45d2-9b3b-15b6f27eec85",
   "metadata": {},
   "source": [
    "https://investigate.ai/text-analysis/counting-words-with-scikit-learns-countvectorizer/"
   ]
  },
  {
   "cell_type": "markdown",
   "id": "b96fd01a-aa44-41f0-b756-26546299395b",
   "metadata": {},
   "source": [
    "https://github.com/KierraDangerfield/Airline-Sentiment-Analysis/blob/main/Notebooks/2%20Sentiment%20Analysis%20EDA.ipynb"
   ]
  },
  {
   "cell_type": "markdown",
   "id": "7a48f75b-3f46-48dd-afb3-4c69bb6a216c",
   "metadata": {},
   "source": [
    "#### J.  Acknowledge sources, using in-text citations and references, for content that is quoted, paraphrased, or summarized."
   ]
  },
  {
   "cell_type": "markdown",
   "id": "0a2e759b-0767-45c7-9c3b-87763c6df09f",
   "metadata": {},
   "source": [
    "Baheti, Pragati. 2022. Activation Functions in Neural Networks.\n",
    "https://www.v7labs.com/blog/neural-networks-activation-functions#:~:text=Sigmoid%20%2F%20Logistic%20Activation%20Function&text=It%20is%20commonly%20used%20for,choice%20because%20of%20its%20range."
   ]
  },
  {
   "cell_type": "markdown",
   "id": "50d6375c-e1c1-4258-b1a2-96e543c7ddf1",
   "metadata": {},
   "source": [
    "Brownlee, Jason. 2018. Use Early Stopping to Halt the Training of Neural Networks At the Right Time.\n",
    "https://machinelearningmastery.com/how-to-stop-training-deep-neural-networks-at-the-right-time-using-early-stopping/"
   ]
  },
  {
   "cell_type": "markdown",
   "id": "79374c35-97a7-41d2-b0b9-74f1b58e0cad",
   "metadata": {},
   "source": [
    "Chen,B. 2021. 7 popular activation functions you should know in Deep Learning and how to use them with Keras and TensorFlow 2.\n",
    "https://towardsdatascience.com/7-popular-activation-functions-you-should-know-in-deep-learning-and-how-to-use-them-with-keras-and-27b4d838dfe6"
   ]
  },
  {
   "cell_type": "markdown",
   "id": "185748fa-6861-4a90-b403-99d4661916d2",
   "metadata": {},
   "source": [
    "Goldman, Sally. 2022.  Embeddings.\n",
    "https://developers.google.com/machine-learning/crash-course/embeddings/video-lecture"
   ]
  },
  {
   "cell_type": "markdown",
   "id": "2bc27af1-e7f6-4a90-b3f6-dc77d151a282",
   "metadata": {},
   "source": [
    "Gupta, Ayush. 2022.  A Comprehensive Guide on Deep Learning Optimizers.\n",
    "https://www.analyticsvidhya.com/blog/2021/10/a-comprehensive-guide-on-deep-learning-optimizers/#:~:text=The%20results%20of%20the%20Adam,for%20most%20of%20the%20applications."
   ]
  },
  {
   "cell_type": "markdown",
   "id": "1d713ac6-34d8-4b98-9301-e50013d87305",
   "metadata": {},
   "source": [
    "Kalita, Debasish. 2022.  A Brief Overview of Recurrent Neural Networks (RNN).\n",
    "https://www.analyticsvidhya.com/blog/2022/03/a-brief-overview-of-recurrent-neural-networks-rnn/"
   ]
  },
  {
   "cell_type": "markdown",
   "id": "adf0fc48-5f85-4337-a306-02023373cf6c",
   "metadata": {},
   "source": [
    "Karikari, Paul. 2020. Deep Learning LSTM for Sentiment Analysis in Tensorflow with Keras API.\n",
    "https://medium.datadriveninvestor.com/deep-learning-lstm-for-sentiment-analysis-in-tensorflow-with-keras-api-92e62cde7626"
   ]
  },
  {
   "cell_type": "markdown",
   "id": "0474e86a-0a1e-437a-8a61-8b5be2a929ef",
   "metadata": {},
   "source": [
    "Reddy,Dwarampudi. 2019. Effects of Padding on LSTM and CNNs.\n",
    "https://arxiv.org/pdf/1903.07288.pdf"
   ]
  },
  {
   "cell_type": "markdown",
   "id": "b52aa554-fc44-40d6-8c69-78b17ff314f1",
   "metadata": {},
   "source": [
    "Shah, Neel. 2021. emot:3.1 library.\n",
    "https://github.com/NeelShah18/emot"
   ]
  },
  {
   "cell_type": "markdown",
   "id": "34fd6d16-1ba1-47f5-af9d-3b2a5e13c00d",
   "metadata": {},
   "source": [
    "Sharma, Palash. 2021. Keras Tokenizer Tutorial with Examples for Beginners.\n",
    "https://machinelearningknowledge.ai/keras-tokenizer-tutorial-with-examples-for-fit_on_texts-texts_to_sequences-texts_to_matrix-sequences_to_matrix/"
   ]
  },
  {
   "cell_type": "markdown",
   "id": "6c76fb86-abe6-4f20-8c1a-3f0047653d65",
   "metadata": {},
   "source": [
    "Testing and Debugging in Machine Learning!\n",
    "https://developers.google.com/machine-learning/testing-debugging/metrics/interpretic"
   ]
  },
  {
   "cell_type": "markdown",
   "id": "03270300-ffc1-4ec7-92cd-d54d6c569bb2",
   "metadata": {},
   "source": [
    "Virahonda,Sergio. 2020. An easy tutorial about Sentiment Analysis with Deep Learning and Keras.\n",
    "https://towardsdatascience.com/an-easy-tutorial-about-sentiment-analysis-with-deep-learning-and-keras-2bf52b9cba91"
   ]
  },
  {
   "cell_type": "markdown",
   "id": "907bd7ac-6d4a-4456-a1b5-324a964068d6",
   "metadata": {},
   "source": [
    "### Part VI: Reporting"
   ]
  },
  {
   "cell_type": "markdown",
   "id": "a1688af6-fee6-4bbe-849d-2bcc1c460806",
   "metadata": {
    "tags": []
   },
   "source": [
    "#### H.  Create your neural network using an industry-relevant interactive development environment (e.g., a Jupyter Notebook). Include a PDF or HTML document of your executed notebook presentation"
   ]
  },
  {
   "cell_type": "markdown",
   "id": "0c842532-d434-4898-8db3-f4a31d779d7f",
   "metadata": {},
   "source": [
    "A copy of the Jupyter Notebook is included in the submission."
   ]
  }
 ],
 "metadata": {
  "kernelspec": {
   "display_name": "Python 3 (ipykernel)",
   "language": "python",
   "name": "python3"
  },
  "language_info": {
   "codemirror_mode": {
    "name": "ipython",
    "version": 3
   },
   "file_extension": ".py",
   "mimetype": "text/x-python",
   "name": "python",
   "nbconvert_exporter": "python",
   "pygments_lexer": "ipython3",
   "version": "3.8.8"
  }
 },
 "nbformat": 4,
 "nbformat_minor": 5
}
